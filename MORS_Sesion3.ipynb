{
  "nbformat": 4,
  "nbformat_minor": 0,
  "metadata": {
    "colab": {
      "provenance": [],
      "authorship_tag": "ABX9TyNmLKBs0d/uyHAKns65fzZP",
      "include_colab_link": true
    },
    "kernelspec": {
      "name": "python3",
      "display_name": "Python 3"
    },
    "language_info": {
      "name": "python"
    },
    "widgets": {
      "application/vnd.jupyter.widget-state+json": {
        "1f2daf5551c544d384290dea1ea96d05": {
          "model_module": "@jupyter-widgets/controls",
          "model_name": "HBoxModel",
          "model_module_version": "1.5.0",
          "state": {
            "_dom_classes": [],
            "_model_module": "@jupyter-widgets/controls",
            "_model_module_version": "1.5.0",
            "_model_name": "HBoxModel",
            "_view_count": null,
            "_view_module": "@jupyter-widgets/controls",
            "_view_module_version": "1.5.0",
            "_view_name": "HBoxView",
            "box_style": "",
            "children": [
              "IPY_MODEL_70f055904ce74a2b948e80e066369ad8",
              "IPY_MODEL_db43a8e74ec844839cdcdb716861ef6e",
              "IPY_MODEL_847eaa8059864c90854963cb4123752a"
            ],
            "layout": "IPY_MODEL_89aaf9bba4204b82a0b0d04c8028b5a7"
          }
        },
        "70f055904ce74a2b948e80e066369ad8": {
          "model_module": "@jupyter-widgets/controls",
          "model_name": "HTMLModel",
          "model_module_version": "1.5.0",
          "state": {
            "_dom_classes": [],
            "_model_module": "@jupyter-widgets/controls",
            "_model_module_version": "1.5.0",
            "_model_name": "HTMLModel",
            "_view_count": null,
            "_view_module": "@jupyter-widgets/controls",
            "_view_module_version": "1.5.0",
            "_view_name": "HTMLView",
            "description": "",
            "description_tooltip": null,
            "layout": "IPY_MODEL_8f9e6f3a17324ca2b39c843ae17776c9",
            "placeholder": "​",
            "style": "IPY_MODEL_a25dc34e3f534aa2bb97151ff489a83f",
            "value": "Downloading https://raw.githubusercontent.com/stanfordnlp/stanza-resources/main/resources_1.9.0.json: "
          }
        },
        "db43a8e74ec844839cdcdb716861ef6e": {
          "model_module": "@jupyter-widgets/controls",
          "model_name": "FloatProgressModel",
          "model_module_version": "1.5.0",
          "state": {
            "_dom_classes": [],
            "_model_module": "@jupyter-widgets/controls",
            "_model_module_version": "1.5.0",
            "_model_name": "FloatProgressModel",
            "_view_count": null,
            "_view_module": "@jupyter-widgets/controls",
            "_view_module_version": "1.5.0",
            "_view_name": "ProgressView",
            "bar_style": "success",
            "description": "",
            "description_tooltip": null,
            "layout": "IPY_MODEL_b858b394857149098841101d776094bd",
            "max": 48453,
            "min": 0,
            "orientation": "horizontal",
            "style": "IPY_MODEL_7ff2336ce387403cb191051547fd4561",
            "value": 48453
          }
        },
        "847eaa8059864c90854963cb4123752a": {
          "model_module": "@jupyter-widgets/controls",
          "model_name": "HTMLModel",
          "model_module_version": "1.5.0",
          "state": {
            "_dom_classes": [],
            "_model_module": "@jupyter-widgets/controls",
            "_model_module_version": "1.5.0",
            "_model_name": "HTMLModel",
            "_view_count": null,
            "_view_module": "@jupyter-widgets/controls",
            "_view_module_version": "1.5.0",
            "_view_name": "HTMLView",
            "description": "",
            "description_tooltip": null,
            "layout": "IPY_MODEL_27589a5f784d4b7daf5a29da7d489373",
            "placeholder": "​",
            "style": "IPY_MODEL_3db95993b3bc4260a15e8d5296a58d59",
            "value": " 392k/? [00:00&lt;00:00, 3.92MB/s]"
          }
        },
        "89aaf9bba4204b82a0b0d04c8028b5a7": {
          "model_module": "@jupyter-widgets/base",
          "model_name": "LayoutModel",
          "model_module_version": "1.2.0",
          "state": {
            "_model_module": "@jupyter-widgets/base",
            "_model_module_version": "1.2.0",
            "_model_name": "LayoutModel",
            "_view_count": null,
            "_view_module": "@jupyter-widgets/base",
            "_view_module_version": "1.2.0",
            "_view_name": "LayoutView",
            "align_content": null,
            "align_items": null,
            "align_self": null,
            "border": null,
            "bottom": null,
            "display": null,
            "flex": null,
            "flex_flow": null,
            "grid_area": null,
            "grid_auto_columns": null,
            "grid_auto_flow": null,
            "grid_auto_rows": null,
            "grid_column": null,
            "grid_gap": null,
            "grid_row": null,
            "grid_template_areas": null,
            "grid_template_columns": null,
            "grid_template_rows": null,
            "height": null,
            "justify_content": null,
            "justify_items": null,
            "left": null,
            "margin": null,
            "max_height": null,
            "max_width": null,
            "min_height": null,
            "min_width": null,
            "object_fit": null,
            "object_position": null,
            "order": null,
            "overflow": null,
            "overflow_x": null,
            "overflow_y": null,
            "padding": null,
            "right": null,
            "top": null,
            "visibility": null,
            "width": null
          }
        },
        "8f9e6f3a17324ca2b39c843ae17776c9": {
          "model_module": "@jupyter-widgets/base",
          "model_name": "LayoutModel",
          "model_module_version": "1.2.0",
          "state": {
            "_model_module": "@jupyter-widgets/base",
            "_model_module_version": "1.2.0",
            "_model_name": "LayoutModel",
            "_view_count": null,
            "_view_module": "@jupyter-widgets/base",
            "_view_module_version": "1.2.0",
            "_view_name": "LayoutView",
            "align_content": null,
            "align_items": null,
            "align_self": null,
            "border": null,
            "bottom": null,
            "display": null,
            "flex": null,
            "flex_flow": null,
            "grid_area": null,
            "grid_auto_columns": null,
            "grid_auto_flow": null,
            "grid_auto_rows": null,
            "grid_column": null,
            "grid_gap": null,
            "grid_row": null,
            "grid_template_areas": null,
            "grid_template_columns": null,
            "grid_template_rows": null,
            "height": null,
            "justify_content": null,
            "justify_items": null,
            "left": null,
            "margin": null,
            "max_height": null,
            "max_width": null,
            "min_height": null,
            "min_width": null,
            "object_fit": null,
            "object_position": null,
            "order": null,
            "overflow": null,
            "overflow_x": null,
            "overflow_y": null,
            "padding": null,
            "right": null,
            "top": null,
            "visibility": null,
            "width": null
          }
        },
        "a25dc34e3f534aa2bb97151ff489a83f": {
          "model_module": "@jupyter-widgets/controls",
          "model_name": "DescriptionStyleModel",
          "model_module_version": "1.5.0",
          "state": {
            "_model_module": "@jupyter-widgets/controls",
            "_model_module_version": "1.5.0",
            "_model_name": "DescriptionStyleModel",
            "_view_count": null,
            "_view_module": "@jupyter-widgets/base",
            "_view_module_version": "1.2.0",
            "_view_name": "StyleView",
            "description_width": ""
          }
        },
        "b858b394857149098841101d776094bd": {
          "model_module": "@jupyter-widgets/base",
          "model_name": "LayoutModel",
          "model_module_version": "1.2.0",
          "state": {
            "_model_module": "@jupyter-widgets/base",
            "_model_module_version": "1.2.0",
            "_model_name": "LayoutModel",
            "_view_count": null,
            "_view_module": "@jupyter-widgets/base",
            "_view_module_version": "1.2.0",
            "_view_name": "LayoutView",
            "align_content": null,
            "align_items": null,
            "align_self": null,
            "border": null,
            "bottom": null,
            "display": null,
            "flex": null,
            "flex_flow": null,
            "grid_area": null,
            "grid_auto_columns": null,
            "grid_auto_flow": null,
            "grid_auto_rows": null,
            "grid_column": null,
            "grid_gap": null,
            "grid_row": null,
            "grid_template_areas": null,
            "grid_template_columns": null,
            "grid_template_rows": null,
            "height": null,
            "justify_content": null,
            "justify_items": null,
            "left": null,
            "margin": null,
            "max_height": null,
            "max_width": null,
            "min_height": null,
            "min_width": null,
            "object_fit": null,
            "object_position": null,
            "order": null,
            "overflow": null,
            "overflow_x": null,
            "overflow_y": null,
            "padding": null,
            "right": null,
            "top": null,
            "visibility": null,
            "width": null
          }
        },
        "7ff2336ce387403cb191051547fd4561": {
          "model_module": "@jupyter-widgets/controls",
          "model_name": "ProgressStyleModel",
          "model_module_version": "1.5.0",
          "state": {
            "_model_module": "@jupyter-widgets/controls",
            "_model_module_version": "1.5.0",
            "_model_name": "ProgressStyleModel",
            "_view_count": null,
            "_view_module": "@jupyter-widgets/base",
            "_view_module_version": "1.2.0",
            "_view_name": "StyleView",
            "bar_color": null,
            "description_width": ""
          }
        },
        "27589a5f784d4b7daf5a29da7d489373": {
          "model_module": "@jupyter-widgets/base",
          "model_name": "LayoutModel",
          "model_module_version": "1.2.0",
          "state": {
            "_model_module": "@jupyter-widgets/base",
            "_model_module_version": "1.2.0",
            "_model_name": "LayoutModel",
            "_view_count": null,
            "_view_module": "@jupyter-widgets/base",
            "_view_module_version": "1.2.0",
            "_view_name": "LayoutView",
            "align_content": null,
            "align_items": null,
            "align_self": null,
            "border": null,
            "bottom": null,
            "display": null,
            "flex": null,
            "flex_flow": null,
            "grid_area": null,
            "grid_auto_columns": null,
            "grid_auto_flow": null,
            "grid_auto_rows": null,
            "grid_column": null,
            "grid_gap": null,
            "grid_row": null,
            "grid_template_areas": null,
            "grid_template_columns": null,
            "grid_template_rows": null,
            "height": null,
            "justify_content": null,
            "justify_items": null,
            "left": null,
            "margin": null,
            "max_height": null,
            "max_width": null,
            "min_height": null,
            "min_width": null,
            "object_fit": null,
            "object_position": null,
            "order": null,
            "overflow": null,
            "overflow_x": null,
            "overflow_y": null,
            "padding": null,
            "right": null,
            "top": null,
            "visibility": null,
            "width": null
          }
        },
        "3db95993b3bc4260a15e8d5296a58d59": {
          "model_module": "@jupyter-widgets/controls",
          "model_name": "DescriptionStyleModel",
          "model_module_version": "1.5.0",
          "state": {
            "_model_module": "@jupyter-widgets/controls",
            "_model_module_version": "1.5.0",
            "_model_name": "DescriptionStyleModel",
            "_view_count": null,
            "_view_module": "@jupyter-widgets/base",
            "_view_module_version": "1.2.0",
            "_view_name": "StyleView",
            "description_width": ""
          }
        },
        "525cb15e00d146d596ad48c0a53338f4": {
          "model_module": "@jupyter-widgets/controls",
          "model_name": "HBoxModel",
          "model_module_version": "1.5.0",
          "state": {
            "_dom_classes": [],
            "_model_module": "@jupyter-widgets/controls",
            "_model_module_version": "1.5.0",
            "_model_name": "HBoxModel",
            "_view_count": null,
            "_view_module": "@jupyter-widgets/controls",
            "_view_module_version": "1.5.0",
            "_view_name": "HBoxView",
            "box_style": "",
            "children": [
              "IPY_MODEL_ac5c7549c042497fb4778e51fa4412b0",
              "IPY_MODEL_601a230f8df64d2597c6265d23be1fef",
              "IPY_MODEL_9128f0d56f1c4756ab9f810f235d047a"
            ],
            "layout": "IPY_MODEL_41ada61b42f94e96b9d15ddd7fe4a201"
          }
        },
        "ac5c7549c042497fb4778e51fa4412b0": {
          "model_module": "@jupyter-widgets/controls",
          "model_name": "HTMLModel",
          "model_module_version": "1.5.0",
          "state": {
            "_dom_classes": [],
            "_model_module": "@jupyter-widgets/controls",
            "_model_module_version": "1.5.0",
            "_model_name": "HTMLModel",
            "_view_count": null,
            "_view_module": "@jupyter-widgets/controls",
            "_view_module_version": "1.5.0",
            "_view_name": "HTMLView",
            "description": "",
            "description_tooltip": null,
            "layout": "IPY_MODEL_4f9efa7cbc3048e0a9b39d1436d0febd",
            "placeholder": "​",
            "style": "IPY_MODEL_f98ab0e697a2460daf6bb0b0014675c6",
            "value": "Downloading https://huggingface.co/stanfordnlp/stanza-es/resolve/v1.9.0/models/default.zip: 100%"
          }
        },
        "601a230f8df64d2597c6265d23be1fef": {
          "model_module": "@jupyter-widgets/controls",
          "model_name": "FloatProgressModel",
          "model_module_version": "1.5.0",
          "state": {
            "_dom_classes": [],
            "_model_module": "@jupyter-widgets/controls",
            "_model_module_version": "1.5.0",
            "_model_name": "FloatProgressModel",
            "_view_count": null,
            "_view_module": "@jupyter-widgets/controls",
            "_view_module_version": "1.5.0",
            "_view_name": "ProgressView",
            "bar_style": "success",
            "description": "",
            "description_tooltip": null,
            "layout": "IPY_MODEL_b14a8b5b5b4a459b9f37a2395c588d78",
            "max": 641963735,
            "min": 0,
            "orientation": "horizontal",
            "style": "IPY_MODEL_3a14dfcfef844faca682dff559f25111",
            "value": 641963735
          }
        },
        "9128f0d56f1c4756ab9f810f235d047a": {
          "model_module": "@jupyter-widgets/controls",
          "model_name": "HTMLModel",
          "model_module_version": "1.5.0",
          "state": {
            "_dom_classes": [],
            "_model_module": "@jupyter-widgets/controls",
            "_model_module_version": "1.5.0",
            "_model_name": "HTMLModel",
            "_view_count": null,
            "_view_module": "@jupyter-widgets/controls",
            "_view_module_version": "1.5.0",
            "_view_name": "HTMLView",
            "description": "",
            "description_tooltip": null,
            "layout": "IPY_MODEL_02c2161446664bcaa01184a42945659f",
            "placeholder": "​",
            "style": "IPY_MODEL_d48974f96fb042da81252b0facdecaae",
            "value": " 642M/642M [00:08&lt;00:00, 117MB/s]"
          }
        },
        "41ada61b42f94e96b9d15ddd7fe4a201": {
          "model_module": "@jupyter-widgets/base",
          "model_name": "LayoutModel",
          "model_module_version": "1.2.0",
          "state": {
            "_model_module": "@jupyter-widgets/base",
            "_model_module_version": "1.2.0",
            "_model_name": "LayoutModel",
            "_view_count": null,
            "_view_module": "@jupyter-widgets/base",
            "_view_module_version": "1.2.0",
            "_view_name": "LayoutView",
            "align_content": null,
            "align_items": null,
            "align_self": null,
            "border": null,
            "bottom": null,
            "display": null,
            "flex": null,
            "flex_flow": null,
            "grid_area": null,
            "grid_auto_columns": null,
            "grid_auto_flow": null,
            "grid_auto_rows": null,
            "grid_column": null,
            "grid_gap": null,
            "grid_row": null,
            "grid_template_areas": null,
            "grid_template_columns": null,
            "grid_template_rows": null,
            "height": null,
            "justify_content": null,
            "justify_items": null,
            "left": null,
            "margin": null,
            "max_height": null,
            "max_width": null,
            "min_height": null,
            "min_width": null,
            "object_fit": null,
            "object_position": null,
            "order": null,
            "overflow": null,
            "overflow_x": null,
            "overflow_y": null,
            "padding": null,
            "right": null,
            "top": null,
            "visibility": null,
            "width": null
          }
        },
        "4f9efa7cbc3048e0a9b39d1436d0febd": {
          "model_module": "@jupyter-widgets/base",
          "model_name": "LayoutModel",
          "model_module_version": "1.2.0",
          "state": {
            "_model_module": "@jupyter-widgets/base",
            "_model_module_version": "1.2.0",
            "_model_name": "LayoutModel",
            "_view_count": null,
            "_view_module": "@jupyter-widgets/base",
            "_view_module_version": "1.2.0",
            "_view_name": "LayoutView",
            "align_content": null,
            "align_items": null,
            "align_self": null,
            "border": null,
            "bottom": null,
            "display": null,
            "flex": null,
            "flex_flow": null,
            "grid_area": null,
            "grid_auto_columns": null,
            "grid_auto_flow": null,
            "grid_auto_rows": null,
            "grid_column": null,
            "grid_gap": null,
            "grid_row": null,
            "grid_template_areas": null,
            "grid_template_columns": null,
            "grid_template_rows": null,
            "height": null,
            "justify_content": null,
            "justify_items": null,
            "left": null,
            "margin": null,
            "max_height": null,
            "max_width": null,
            "min_height": null,
            "min_width": null,
            "object_fit": null,
            "object_position": null,
            "order": null,
            "overflow": null,
            "overflow_x": null,
            "overflow_y": null,
            "padding": null,
            "right": null,
            "top": null,
            "visibility": null,
            "width": null
          }
        },
        "f98ab0e697a2460daf6bb0b0014675c6": {
          "model_module": "@jupyter-widgets/controls",
          "model_name": "DescriptionStyleModel",
          "model_module_version": "1.5.0",
          "state": {
            "_model_module": "@jupyter-widgets/controls",
            "_model_module_version": "1.5.0",
            "_model_name": "DescriptionStyleModel",
            "_view_count": null,
            "_view_module": "@jupyter-widgets/base",
            "_view_module_version": "1.2.0",
            "_view_name": "StyleView",
            "description_width": ""
          }
        },
        "b14a8b5b5b4a459b9f37a2395c588d78": {
          "model_module": "@jupyter-widgets/base",
          "model_name": "LayoutModel",
          "model_module_version": "1.2.0",
          "state": {
            "_model_module": "@jupyter-widgets/base",
            "_model_module_version": "1.2.0",
            "_model_name": "LayoutModel",
            "_view_count": null,
            "_view_module": "@jupyter-widgets/base",
            "_view_module_version": "1.2.0",
            "_view_name": "LayoutView",
            "align_content": null,
            "align_items": null,
            "align_self": null,
            "border": null,
            "bottom": null,
            "display": null,
            "flex": null,
            "flex_flow": null,
            "grid_area": null,
            "grid_auto_columns": null,
            "grid_auto_flow": null,
            "grid_auto_rows": null,
            "grid_column": null,
            "grid_gap": null,
            "grid_row": null,
            "grid_template_areas": null,
            "grid_template_columns": null,
            "grid_template_rows": null,
            "height": null,
            "justify_content": null,
            "justify_items": null,
            "left": null,
            "margin": null,
            "max_height": null,
            "max_width": null,
            "min_height": null,
            "min_width": null,
            "object_fit": null,
            "object_position": null,
            "order": null,
            "overflow": null,
            "overflow_x": null,
            "overflow_y": null,
            "padding": null,
            "right": null,
            "top": null,
            "visibility": null,
            "width": null
          }
        },
        "3a14dfcfef844faca682dff559f25111": {
          "model_module": "@jupyter-widgets/controls",
          "model_name": "ProgressStyleModel",
          "model_module_version": "1.5.0",
          "state": {
            "_model_module": "@jupyter-widgets/controls",
            "_model_module_version": "1.5.0",
            "_model_name": "ProgressStyleModel",
            "_view_count": null,
            "_view_module": "@jupyter-widgets/base",
            "_view_module_version": "1.2.0",
            "_view_name": "StyleView",
            "bar_color": null,
            "description_width": ""
          }
        },
        "02c2161446664bcaa01184a42945659f": {
          "model_module": "@jupyter-widgets/base",
          "model_name": "LayoutModel",
          "model_module_version": "1.2.0",
          "state": {
            "_model_module": "@jupyter-widgets/base",
            "_model_module_version": "1.2.0",
            "_model_name": "LayoutModel",
            "_view_count": null,
            "_view_module": "@jupyter-widgets/base",
            "_view_module_version": "1.2.0",
            "_view_name": "LayoutView",
            "align_content": null,
            "align_items": null,
            "align_self": null,
            "border": null,
            "bottom": null,
            "display": null,
            "flex": null,
            "flex_flow": null,
            "grid_area": null,
            "grid_auto_columns": null,
            "grid_auto_flow": null,
            "grid_auto_rows": null,
            "grid_column": null,
            "grid_gap": null,
            "grid_row": null,
            "grid_template_areas": null,
            "grid_template_columns": null,
            "grid_template_rows": null,
            "height": null,
            "justify_content": null,
            "justify_items": null,
            "left": null,
            "margin": null,
            "max_height": null,
            "max_width": null,
            "min_height": null,
            "min_width": null,
            "object_fit": null,
            "object_position": null,
            "order": null,
            "overflow": null,
            "overflow_x": null,
            "overflow_y": null,
            "padding": null,
            "right": null,
            "top": null,
            "visibility": null,
            "width": null
          }
        },
        "d48974f96fb042da81252b0facdecaae": {
          "model_module": "@jupyter-widgets/controls",
          "model_name": "DescriptionStyleModel",
          "model_module_version": "1.5.0",
          "state": {
            "_model_module": "@jupyter-widgets/controls",
            "_model_module_version": "1.5.0",
            "_model_name": "DescriptionStyleModel",
            "_view_count": null,
            "_view_module": "@jupyter-widgets/base",
            "_view_module_version": "1.2.0",
            "_view_name": "StyleView",
            "description_width": ""
          }
        },
        "9b0b785926f74fa1aca440523ca509fe": {
          "model_module": "@jupyter-widgets/controls",
          "model_name": "HBoxModel",
          "model_module_version": "1.5.0",
          "state": {
            "_dom_classes": [],
            "_model_module": "@jupyter-widgets/controls",
            "_model_module_version": "1.5.0",
            "_model_name": "HBoxModel",
            "_view_count": null,
            "_view_module": "@jupyter-widgets/controls",
            "_view_module_version": "1.5.0",
            "_view_name": "HBoxView",
            "box_style": "",
            "children": [
              "IPY_MODEL_197c15755dd74947a9602e8b41c6afbe",
              "IPY_MODEL_e9cb325d449f4952bea75033fe020823",
              "IPY_MODEL_84ee0ca581e44ad78b23c39bd77c1d80"
            ],
            "layout": "IPY_MODEL_3cbbb9b6ec14488bbc184cec5c2b1690"
          }
        },
        "197c15755dd74947a9602e8b41c6afbe": {
          "model_module": "@jupyter-widgets/controls",
          "model_name": "HTMLModel",
          "model_module_version": "1.5.0",
          "state": {
            "_dom_classes": [],
            "_model_module": "@jupyter-widgets/controls",
            "_model_module_version": "1.5.0",
            "_model_name": "HTMLModel",
            "_view_count": null,
            "_view_module": "@jupyter-widgets/controls",
            "_view_module_version": "1.5.0",
            "_view_name": "HTMLView",
            "description": "",
            "description_tooltip": null,
            "layout": "IPY_MODEL_19f8c7cb14a349a08144bc064a3a92d4",
            "placeholder": "​",
            "style": "IPY_MODEL_d96fb86ba6a2401c8dc9f125c1a04d80",
            "value": "Downloading https://raw.githubusercontent.com/stanfordnlp/stanza-resources/main/resources_1.9.0.json: "
          }
        },
        "e9cb325d449f4952bea75033fe020823": {
          "model_module": "@jupyter-widgets/controls",
          "model_name": "FloatProgressModel",
          "model_module_version": "1.5.0",
          "state": {
            "_dom_classes": [],
            "_model_module": "@jupyter-widgets/controls",
            "_model_module_version": "1.5.0",
            "_model_name": "FloatProgressModel",
            "_view_count": null,
            "_view_module": "@jupyter-widgets/controls",
            "_view_module_version": "1.5.0",
            "_view_name": "ProgressView",
            "bar_style": "success",
            "description": "",
            "description_tooltip": null,
            "layout": "IPY_MODEL_945a3f6d3e03427bac9e4577b814a987",
            "max": 48453,
            "min": 0,
            "orientation": "horizontal",
            "style": "IPY_MODEL_c2936deca43141e2a5a995306401ff00",
            "value": 48453
          }
        },
        "84ee0ca581e44ad78b23c39bd77c1d80": {
          "model_module": "@jupyter-widgets/controls",
          "model_name": "HTMLModel",
          "model_module_version": "1.5.0",
          "state": {
            "_dom_classes": [],
            "_model_module": "@jupyter-widgets/controls",
            "_model_module_version": "1.5.0",
            "_model_name": "HTMLModel",
            "_view_count": null,
            "_view_module": "@jupyter-widgets/controls",
            "_view_module_version": "1.5.0",
            "_view_name": "HTMLView",
            "description": "",
            "description_tooltip": null,
            "layout": "IPY_MODEL_1cb4623fc1774496b0a7a6fd48503c15",
            "placeholder": "​",
            "style": "IPY_MODEL_767e3449485647f284aa4a61723bd695",
            "value": " 392k/? [00:00&lt;00:00, 15.5MB/s]"
          }
        },
        "3cbbb9b6ec14488bbc184cec5c2b1690": {
          "model_module": "@jupyter-widgets/base",
          "model_name": "LayoutModel",
          "model_module_version": "1.2.0",
          "state": {
            "_model_module": "@jupyter-widgets/base",
            "_model_module_version": "1.2.0",
            "_model_name": "LayoutModel",
            "_view_count": null,
            "_view_module": "@jupyter-widgets/base",
            "_view_module_version": "1.2.0",
            "_view_name": "LayoutView",
            "align_content": null,
            "align_items": null,
            "align_self": null,
            "border": null,
            "bottom": null,
            "display": null,
            "flex": null,
            "flex_flow": null,
            "grid_area": null,
            "grid_auto_columns": null,
            "grid_auto_flow": null,
            "grid_auto_rows": null,
            "grid_column": null,
            "grid_gap": null,
            "grid_row": null,
            "grid_template_areas": null,
            "grid_template_columns": null,
            "grid_template_rows": null,
            "height": null,
            "justify_content": null,
            "justify_items": null,
            "left": null,
            "margin": null,
            "max_height": null,
            "max_width": null,
            "min_height": null,
            "min_width": null,
            "object_fit": null,
            "object_position": null,
            "order": null,
            "overflow": null,
            "overflow_x": null,
            "overflow_y": null,
            "padding": null,
            "right": null,
            "top": null,
            "visibility": null,
            "width": null
          }
        },
        "19f8c7cb14a349a08144bc064a3a92d4": {
          "model_module": "@jupyter-widgets/base",
          "model_name": "LayoutModel",
          "model_module_version": "1.2.0",
          "state": {
            "_model_module": "@jupyter-widgets/base",
            "_model_module_version": "1.2.0",
            "_model_name": "LayoutModel",
            "_view_count": null,
            "_view_module": "@jupyter-widgets/base",
            "_view_module_version": "1.2.0",
            "_view_name": "LayoutView",
            "align_content": null,
            "align_items": null,
            "align_self": null,
            "border": null,
            "bottom": null,
            "display": null,
            "flex": null,
            "flex_flow": null,
            "grid_area": null,
            "grid_auto_columns": null,
            "grid_auto_flow": null,
            "grid_auto_rows": null,
            "grid_column": null,
            "grid_gap": null,
            "grid_row": null,
            "grid_template_areas": null,
            "grid_template_columns": null,
            "grid_template_rows": null,
            "height": null,
            "justify_content": null,
            "justify_items": null,
            "left": null,
            "margin": null,
            "max_height": null,
            "max_width": null,
            "min_height": null,
            "min_width": null,
            "object_fit": null,
            "object_position": null,
            "order": null,
            "overflow": null,
            "overflow_x": null,
            "overflow_y": null,
            "padding": null,
            "right": null,
            "top": null,
            "visibility": null,
            "width": null
          }
        },
        "d96fb86ba6a2401c8dc9f125c1a04d80": {
          "model_module": "@jupyter-widgets/controls",
          "model_name": "DescriptionStyleModel",
          "model_module_version": "1.5.0",
          "state": {
            "_model_module": "@jupyter-widgets/controls",
            "_model_module_version": "1.5.0",
            "_model_name": "DescriptionStyleModel",
            "_view_count": null,
            "_view_module": "@jupyter-widgets/base",
            "_view_module_version": "1.2.0",
            "_view_name": "StyleView",
            "description_width": ""
          }
        },
        "945a3f6d3e03427bac9e4577b814a987": {
          "model_module": "@jupyter-widgets/base",
          "model_name": "LayoutModel",
          "model_module_version": "1.2.0",
          "state": {
            "_model_module": "@jupyter-widgets/base",
            "_model_module_version": "1.2.0",
            "_model_name": "LayoutModel",
            "_view_count": null,
            "_view_module": "@jupyter-widgets/base",
            "_view_module_version": "1.2.0",
            "_view_name": "LayoutView",
            "align_content": null,
            "align_items": null,
            "align_self": null,
            "border": null,
            "bottom": null,
            "display": null,
            "flex": null,
            "flex_flow": null,
            "grid_area": null,
            "grid_auto_columns": null,
            "grid_auto_flow": null,
            "grid_auto_rows": null,
            "grid_column": null,
            "grid_gap": null,
            "grid_row": null,
            "grid_template_areas": null,
            "grid_template_columns": null,
            "grid_template_rows": null,
            "height": null,
            "justify_content": null,
            "justify_items": null,
            "left": null,
            "margin": null,
            "max_height": null,
            "max_width": null,
            "min_height": null,
            "min_width": null,
            "object_fit": null,
            "object_position": null,
            "order": null,
            "overflow": null,
            "overflow_x": null,
            "overflow_y": null,
            "padding": null,
            "right": null,
            "top": null,
            "visibility": null,
            "width": null
          }
        },
        "c2936deca43141e2a5a995306401ff00": {
          "model_module": "@jupyter-widgets/controls",
          "model_name": "ProgressStyleModel",
          "model_module_version": "1.5.0",
          "state": {
            "_model_module": "@jupyter-widgets/controls",
            "_model_module_version": "1.5.0",
            "_model_name": "ProgressStyleModel",
            "_view_count": null,
            "_view_module": "@jupyter-widgets/base",
            "_view_module_version": "1.2.0",
            "_view_name": "StyleView",
            "bar_color": null,
            "description_width": ""
          }
        },
        "1cb4623fc1774496b0a7a6fd48503c15": {
          "model_module": "@jupyter-widgets/base",
          "model_name": "LayoutModel",
          "model_module_version": "1.2.0",
          "state": {
            "_model_module": "@jupyter-widgets/base",
            "_model_module_version": "1.2.0",
            "_model_name": "LayoutModel",
            "_view_count": null,
            "_view_module": "@jupyter-widgets/base",
            "_view_module_version": "1.2.0",
            "_view_name": "LayoutView",
            "align_content": null,
            "align_items": null,
            "align_self": null,
            "border": null,
            "bottom": null,
            "display": null,
            "flex": null,
            "flex_flow": null,
            "grid_area": null,
            "grid_auto_columns": null,
            "grid_auto_flow": null,
            "grid_auto_rows": null,
            "grid_column": null,
            "grid_gap": null,
            "grid_row": null,
            "grid_template_areas": null,
            "grid_template_columns": null,
            "grid_template_rows": null,
            "height": null,
            "justify_content": null,
            "justify_items": null,
            "left": null,
            "margin": null,
            "max_height": null,
            "max_width": null,
            "min_height": null,
            "min_width": null,
            "object_fit": null,
            "object_position": null,
            "order": null,
            "overflow": null,
            "overflow_x": null,
            "overflow_y": null,
            "padding": null,
            "right": null,
            "top": null,
            "visibility": null,
            "width": null
          }
        },
        "767e3449485647f284aa4a61723bd695": {
          "model_module": "@jupyter-widgets/controls",
          "model_name": "DescriptionStyleModel",
          "model_module_version": "1.5.0",
          "state": {
            "_model_module": "@jupyter-widgets/controls",
            "_model_module_version": "1.5.0",
            "_model_name": "DescriptionStyleModel",
            "_view_count": null,
            "_view_module": "@jupyter-widgets/base",
            "_view_module_version": "1.2.0",
            "_view_name": "StyleView",
            "description_width": ""
          }
        }
      }
    }
  },
  "cells": [
    {
      "cell_type": "markdown",
      "metadata": {
        "id": "view-in-github",
        "colab_type": "text"
      },
      "source": [
        "<a href=\"https://colab.research.google.com/github/MdelaVilla/MORS/blob/main/MORS_Sesion3.ipynb\" target=\"_parent\"><img src=\"https://colab.research.google.com/assets/colab-badge.svg\" alt=\"Open In Colab\"/></a>"
      ]
    },
    {
      "cell_type": "code",
      "execution_count": null,
      "metadata": {
        "colab": {
          "base_uri": "https://localhost:8080/"
        },
        "id": "-fXek4iOm8jK",
        "outputId": "89a9bf74-3202-44d4-d5e5-3b2f07263ad7"
      },
      "outputs": [
        {
          "output_type": "stream",
          "name": "stderr",
          "text": [
            "[nltk_data] Downloading collection 'popular'\n",
            "[nltk_data]    | \n",
            "[nltk_data]    | Downloading package cmudict to /root/nltk_data...\n",
            "[nltk_data]    |   Unzipping corpora/cmudict.zip.\n",
            "[nltk_data]    | Downloading package gazetteers to /root/nltk_data...\n",
            "[nltk_data]    |   Unzipping corpora/gazetteers.zip.\n",
            "[nltk_data]    | Downloading package genesis to /root/nltk_data...\n",
            "[nltk_data]    |   Unzipping corpora/genesis.zip.\n",
            "[nltk_data]    | Downloading package gutenberg to /root/nltk_data...\n",
            "[nltk_data]    |   Unzipping corpora/gutenberg.zip.\n",
            "[nltk_data]    | Downloading package inaugural to /root/nltk_data...\n",
            "[nltk_data]    |   Unzipping corpora/inaugural.zip.\n",
            "[nltk_data]    | Downloading package movie_reviews to\n",
            "[nltk_data]    |     /root/nltk_data...\n",
            "[nltk_data]    |   Unzipping corpora/movie_reviews.zip.\n",
            "[nltk_data]    | Downloading package names to /root/nltk_data...\n",
            "[nltk_data]    |   Unzipping corpora/names.zip.\n",
            "[nltk_data]    | Downloading package shakespeare to /root/nltk_data...\n",
            "[nltk_data]    |   Unzipping corpora/shakespeare.zip.\n",
            "[nltk_data]    | Downloading package stopwords to /root/nltk_data...\n",
            "[nltk_data]    |   Unzipping corpora/stopwords.zip.\n",
            "[nltk_data]    | Downloading package treebank to /root/nltk_data...\n",
            "[nltk_data]    |   Unzipping corpora/treebank.zip.\n",
            "[nltk_data]    | Downloading package twitter_samples to\n",
            "[nltk_data]    |     /root/nltk_data...\n",
            "[nltk_data]    |   Unzipping corpora/twitter_samples.zip.\n",
            "[nltk_data]    | Downloading package omw to /root/nltk_data...\n",
            "[nltk_data]    | Downloading package omw-1.4 to /root/nltk_data...\n",
            "[nltk_data]    | Downloading package wordnet to /root/nltk_data...\n",
            "[nltk_data]    | Downloading package wordnet2021 to /root/nltk_data...\n",
            "[nltk_data]    | Downloading package wordnet31 to /root/nltk_data...\n",
            "[nltk_data]    | Downloading package wordnet_ic to /root/nltk_data...\n",
            "[nltk_data]    |   Unzipping corpora/wordnet_ic.zip.\n",
            "[nltk_data]    | Downloading package words to /root/nltk_data...\n",
            "[nltk_data]    |   Unzipping corpora/words.zip.\n",
            "[nltk_data]    | Downloading package maxent_ne_chunker to\n",
            "[nltk_data]    |     /root/nltk_data...\n",
            "[nltk_data]    |   Unzipping chunkers/maxent_ne_chunker.zip.\n",
            "[nltk_data]    | Downloading package punkt to /root/nltk_data...\n",
            "[nltk_data]    |   Unzipping tokenizers/punkt.zip.\n",
            "[nltk_data]    | Downloading package snowball_data to\n",
            "[nltk_data]    |     /root/nltk_data...\n",
            "[nltk_data]    | Downloading package averaged_perceptron_tagger to\n",
            "[nltk_data]    |     /root/nltk_data...\n",
            "[nltk_data]    |   Unzipping taggers/averaged_perceptron_tagger.zip.\n",
            "[nltk_data]    | \n",
            "[nltk_data]  Done downloading collection popular\n",
            "[nltk_data] Downloading package spanish_grammars to /root/nltk_data...\n",
            "[nltk_data]   Unzipping grammars/spanish_grammars.zip.\n"
          ]
        },
        {
          "output_type": "execute_result",
          "data": {
            "text/plain": [
              "True"
            ]
          },
          "metadata": {},
          "execution_count": 2
        }
      ],
      "source": [
        "import nltk\n",
        "nltk.download('popular')\n",
        "nltk.download('spanish_grammars')"
      ]
    },
    {
      "cell_type": "code",
      "source": [
        "from google.colab import drive\n",
        "drive.mount('/content/drive')"
      ],
      "metadata": {
        "colab": {
          "base_uri": "https://localhost:8080/"
        },
        "id": "CYMKnwhTnOM6",
        "outputId": "fb76fa03-c247-44e8-8c51-dea5595e97be"
      },
      "execution_count": null,
      "outputs": [
        {
          "output_type": "stream",
          "name": "stdout",
          "text": [
            "Mounted at /content/drive\n"
          ]
        }
      ]
    },
    {
      "cell_type": "code",
      "source": [
        "import pandas as pd\n",
        "\n",
        "file = ('/content/drive/MyDrive/Colab Notebooks/MORS 2324/trial_es.tsv')"
      ],
      "metadata": {
        "id": "wAg5V5y4nclR"
      },
      "execution_count": null,
      "outputs": []
    },
    {
      "cell_type": "code",
      "source": [
        "data = pd.read_csv(file, delimiter='\\t', usecols =[\"text\",\"HS\"])"
      ],
      "metadata": {
        "id": "cVV08unRngfx"
      },
      "execution_count": null,
      "outputs": []
    },
    {
      "cell_type": "code",
      "source": [
        "data.head"
      ],
      "metadata": {
        "colab": {
          "base_uri": "https://localhost:8080/"
        },
        "id": "Xm_vWEIHnkBc",
        "outputId": "b8c21076-5130-460f-d61a-344d8e6c619b"
      },
      "execution_count": null,
      "outputs": [
        {
          "output_type": "execute_result",
          "data": {
            "text/plain": [
              "<bound method NDFrame.head of                                                  text  HS\n",
              "0   @ian_delaCalva @IrantzuVarela @pikaramagazine ...   0\n",
              "1   NINGUNA MUJER ES 'PUTA' ❗❗❗ https://t.co/cV0CQ...   0\n",
              "2   Editar, además de complicado, es lo que hace d...   0\n",
              "3   Bien joder una puta alegría!! Te lo mereces pe...   0\n",
              "4   Todo política... no se levanta la sesión y est...   0\n",
              "..                                                ...  ..\n",
              "95  si alguien tiene la imagen del pokemon ese bai...   0\n",
              "96  El ciudadano ruso Denis Yakovlev facilitó en F...   0\n",
              "97  Toy feliz porque me voy a comer 12 empanadas á...   0\n",
              "98  Los Barrios, un pueblo solidario ante el \"caos...   0\n",
              "99  los viernes por la noche los moritos y su regg...   0\n",
              "\n",
              "[100 rows x 2 columns]>"
            ]
          },
          "metadata": {},
          "execution_count": 5
        }
      ]
    },
    {
      "cell_type": "code",
      "source": [
        "data=data[:10]\n",
        "data"
      ],
      "metadata": {
        "colab": {
          "base_uri": "https://localhost:8080/",
          "height": 363
        },
        "id": "rwZ7HcWwnm9e",
        "outputId": "321db722-4e44-4def-a862-a38e53f139df"
      },
      "execution_count": null,
      "outputs": [
        {
          "output_type": "execute_result",
          "data": {
            "text/plain": [
              "                                                text  HS\n",
              "0  @ian_delaCalva @IrantzuVarela @pikaramagazine ...   0\n",
              "1  NINGUNA MUJER ES 'PUTA' ❗❗❗ https://t.co/cV0CQ...   0\n",
              "2  Editar, además de complicado, es lo que hace d...   0\n",
              "3  Bien joder una puta alegría!! Te lo mereces pe...   0\n",
              "4  Todo política... no se levanta la sesión y est...   0\n",
              "5  Casuso callate de una puta vez https://t.co/tW...   0\n",
              "6  @BedMM @NayBetania Tú eres la culpable, perra >:v   1\n",
              "7  Yo no puedo creer que las propias mujeres natu...   0\n",
              "8  @DalasReview @jk_rowling Hijo de puta muerete ...   0\n",
              "9  @Wachit0 @100Akshat @_Midoriyaa_ @NeohSJ La id...   0"
            ],
            "text/html": [
              "\n",
              "  <div id=\"df-e142f313-4510-469a-b4ae-2c4714ee149b\" class=\"colab-df-container\">\n",
              "    <div>\n",
              "<style scoped>\n",
              "    .dataframe tbody tr th:only-of-type {\n",
              "        vertical-align: middle;\n",
              "    }\n",
              "\n",
              "    .dataframe tbody tr th {\n",
              "        vertical-align: top;\n",
              "    }\n",
              "\n",
              "    .dataframe thead th {\n",
              "        text-align: right;\n",
              "    }\n",
              "</style>\n",
              "<table border=\"1\" class=\"dataframe\">\n",
              "  <thead>\n",
              "    <tr style=\"text-align: right;\">\n",
              "      <th></th>\n",
              "      <th>text</th>\n",
              "      <th>HS</th>\n",
              "    </tr>\n",
              "  </thead>\n",
              "  <tbody>\n",
              "    <tr>\n",
              "      <th>0</th>\n",
              "      <td>@ian_delaCalva @IrantzuVarela @pikaramagazine ...</td>\n",
              "      <td>0</td>\n",
              "    </tr>\n",
              "    <tr>\n",
              "      <th>1</th>\n",
              "      <td>NINGUNA MUJER ES 'PUTA' ❗❗❗ https://t.co/cV0CQ...</td>\n",
              "      <td>0</td>\n",
              "    </tr>\n",
              "    <tr>\n",
              "      <th>2</th>\n",
              "      <td>Editar, además de complicado, es lo que hace d...</td>\n",
              "      <td>0</td>\n",
              "    </tr>\n",
              "    <tr>\n",
              "      <th>3</th>\n",
              "      <td>Bien joder una puta alegría!! Te lo mereces pe...</td>\n",
              "      <td>0</td>\n",
              "    </tr>\n",
              "    <tr>\n",
              "      <th>4</th>\n",
              "      <td>Todo política... no se levanta la sesión y est...</td>\n",
              "      <td>0</td>\n",
              "    </tr>\n",
              "    <tr>\n",
              "      <th>5</th>\n",
              "      <td>Casuso callate de una puta vez https://t.co/tW...</td>\n",
              "      <td>0</td>\n",
              "    </tr>\n",
              "    <tr>\n",
              "      <th>6</th>\n",
              "      <td>@BedMM @NayBetania Tú eres la culpable, perra &gt;:v</td>\n",
              "      <td>1</td>\n",
              "    </tr>\n",
              "    <tr>\n",
              "      <th>7</th>\n",
              "      <td>Yo no puedo creer que las propias mujeres natu...</td>\n",
              "      <td>0</td>\n",
              "    </tr>\n",
              "    <tr>\n",
              "      <th>8</th>\n",
              "      <td>@DalasReview @jk_rowling Hijo de puta muerete ...</td>\n",
              "      <td>0</td>\n",
              "    </tr>\n",
              "    <tr>\n",
              "      <th>9</th>\n",
              "      <td>@Wachit0 @100Akshat @_Midoriyaa_ @NeohSJ La id...</td>\n",
              "      <td>0</td>\n",
              "    </tr>\n",
              "  </tbody>\n",
              "</table>\n",
              "</div>\n",
              "    <div class=\"colab-df-buttons\">\n",
              "\n",
              "  <div class=\"colab-df-container\">\n",
              "    <button class=\"colab-df-convert\" onclick=\"convertToInteractive('df-e142f313-4510-469a-b4ae-2c4714ee149b')\"\n",
              "            title=\"Convert this dataframe to an interactive table.\"\n",
              "            style=\"display:none;\">\n",
              "\n",
              "  <svg xmlns=\"http://www.w3.org/2000/svg\" height=\"24px\" viewBox=\"0 -960 960 960\">\n",
              "    <path d=\"M120-120v-720h720v720H120Zm60-500h600v-160H180v160Zm220 220h160v-160H400v160Zm0 220h160v-160H400v160ZM180-400h160v-160H180v160Zm440 0h160v-160H620v160ZM180-180h160v-160H180v160Zm440 0h160v-160H620v160Z\"/>\n",
              "  </svg>\n",
              "    </button>\n",
              "\n",
              "  <style>\n",
              "    .colab-df-container {\n",
              "      display:flex;\n",
              "      gap: 12px;\n",
              "    }\n",
              "\n",
              "    .colab-df-convert {\n",
              "      background-color: #E8F0FE;\n",
              "      border: none;\n",
              "      border-radius: 50%;\n",
              "      cursor: pointer;\n",
              "      display: none;\n",
              "      fill: #1967D2;\n",
              "      height: 32px;\n",
              "      padding: 0 0 0 0;\n",
              "      width: 32px;\n",
              "    }\n",
              "\n",
              "    .colab-df-convert:hover {\n",
              "      background-color: #E2EBFA;\n",
              "      box-shadow: 0px 1px 2px rgba(60, 64, 67, 0.3), 0px 1px 3px 1px rgba(60, 64, 67, 0.15);\n",
              "      fill: #174EA6;\n",
              "    }\n",
              "\n",
              "    .colab-df-buttons div {\n",
              "      margin-bottom: 4px;\n",
              "    }\n",
              "\n",
              "    [theme=dark] .colab-df-convert {\n",
              "      background-color: #3B4455;\n",
              "      fill: #D2E3FC;\n",
              "    }\n",
              "\n",
              "    [theme=dark] .colab-df-convert:hover {\n",
              "      background-color: #434B5C;\n",
              "      box-shadow: 0px 1px 3px 1px rgba(0, 0, 0, 0.15);\n",
              "      filter: drop-shadow(0px 1px 2px rgba(0, 0, 0, 0.3));\n",
              "      fill: #FFFFFF;\n",
              "    }\n",
              "  </style>\n",
              "\n",
              "    <script>\n",
              "      const buttonEl =\n",
              "        document.querySelector('#df-e142f313-4510-469a-b4ae-2c4714ee149b button.colab-df-convert');\n",
              "      buttonEl.style.display =\n",
              "        google.colab.kernel.accessAllowed ? 'block' : 'none';\n",
              "\n",
              "      async function convertToInteractive(key) {\n",
              "        const element = document.querySelector('#df-e142f313-4510-469a-b4ae-2c4714ee149b');\n",
              "        const dataTable =\n",
              "          await google.colab.kernel.invokeFunction('convertToInteractive',\n",
              "                                                    [key], {});\n",
              "        if (!dataTable) return;\n",
              "\n",
              "        const docLinkHtml = 'Like what you see? Visit the ' +\n",
              "          '<a target=\"_blank\" href=https://colab.research.google.com/notebooks/data_table.ipynb>data table notebook</a>'\n",
              "          + ' to learn more about interactive tables.';\n",
              "        element.innerHTML = '';\n",
              "        dataTable['output_type'] = 'display_data';\n",
              "        await google.colab.output.renderOutput(dataTable, element);\n",
              "        const docLink = document.createElement('div');\n",
              "        docLink.innerHTML = docLinkHtml;\n",
              "        element.appendChild(docLink);\n",
              "      }\n",
              "    </script>\n",
              "  </div>\n",
              "\n",
              "\n",
              "<div id=\"df-93d6dd1e-3216-40df-b68e-97908f19b4a2\">\n",
              "  <button class=\"colab-df-quickchart\" onclick=\"quickchart('df-93d6dd1e-3216-40df-b68e-97908f19b4a2')\"\n",
              "            title=\"Suggest charts\"\n",
              "            style=\"display:none;\">\n",
              "\n",
              "<svg xmlns=\"http://www.w3.org/2000/svg\" height=\"24px\"viewBox=\"0 0 24 24\"\n",
              "     width=\"24px\">\n",
              "    <g>\n",
              "        <path d=\"M19 3H5c-1.1 0-2 .9-2 2v14c0 1.1.9 2 2 2h14c1.1 0 2-.9 2-2V5c0-1.1-.9-2-2-2zM9 17H7v-7h2v7zm4 0h-2V7h2v10zm4 0h-2v-4h2v4z\"/>\n",
              "    </g>\n",
              "</svg>\n",
              "  </button>\n",
              "\n",
              "<style>\n",
              "  .colab-df-quickchart {\n",
              "      --bg-color: #E8F0FE;\n",
              "      --fill-color: #1967D2;\n",
              "      --hover-bg-color: #E2EBFA;\n",
              "      --hover-fill-color: #174EA6;\n",
              "      --disabled-fill-color: #AAA;\n",
              "      --disabled-bg-color: #DDD;\n",
              "  }\n",
              "\n",
              "  [theme=dark] .colab-df-quickchart {\n",
              "      --bg-color: #3B4455;\n",
              "      --fill-color: #D2E3FC;\n",
              "      --hover-bg-color: #434B5C;\n",
              "      --hover-fill-color: #FFFFFF;\n",
              "      --disabled-bg-color: #3B4455;\n",
              "      --disabled-fill-color: #666;\n",
              "  }\n",
              "\n",
              "  .colab-df-quickchart {\n",
              "    background-color: var(--bg-color);\n",
              "    border: none;\n",
              "    border-radius: 50%;\n",
              "    cursor: pointer;\n",
              "    display: none;\n",
              "    fill: var(--fill-color);\n",
              "    height: 32px;\n",
              "    padding: 0;\n",
              "    width: 32px;\n",
              "  }\n",
              "\n",
              "  .colab-df-quickchart:hover {\n",
              "    background-color: var(--hover-bg-color);\n",
              "    box-shadow: 0 1px 2px rgba(60, 64, 67, 0.3), 0 1px 3px 1px rgba(60, 64, 67, 0.15);\n",
              "    fill: var(--button-hover-fill-color);\n",
              "  }\n",
              "\n",
              "  .colab-df-quickchart-complete:disabled,\n",
              "  .colab-df-quickchart-complete:disabled:hover {\n",
              "    background-color: var(--disabled-bg-color);\n",
              "    fill: var(--disabled-fill-color);\n",
              "    box-shadow: none;\n",
              "  }\n",
              "\n",
              "  .colab-df-spinner {\n",
              "    border: 2px solid var(--fill-color);\n",
              "    border-color: transparent;\n",
              "    border-bottom-color: var(--fill-color);\n",
              "    animation:\n",
              "      spin 1s steps(1) infinite;\n",
              "  }\n",
              "\n",
              "  @keyframes spin {\n",
              "    0% {\n",
              "      border-color: transparent;\n",
              "      border-bottom-color: var(--fill-color);\n",
              "      border-left-color: var(--fill-color);\n",
              "    }\n",
              "    20% {\n",
              "      border-color: transparent;\n",
              "      border-left-color: var(--fill-color);\n",
              "      border-top-color: var(--fill-color);\n",
              "    }\n",
              "    30% {\n",
              "      border-color: transparent;\n",
              "      border-left-color: var(--fill-color);\n",
              "      border-top-color: var(--fill-color);\n",
              "      border-right-color: var(--fill-color);\n",
              "    }\n",
              "    40% {\n",
              "      border-color: transparent;\n",
              "      border-right-color: var(--fill-color);\n",
              "      border-top-color: var(--fill-color);\n",
              "    }\n",
              "    60% {\n",
              "      border-color: transparent;\n",
              "      border-right-color: var(--fill-color);\n",
              "    }\n",
              "    80% {\n",
              "      border-color: transparent;\n",
              "      border-right-color: var(--fill-color);\n",
              "      border-bottom-color: var(--fill-color);\n",
              "    }\n",
              "    90% {\n",
              "      border-color: transparent;\n",
              "      border-bottom-color: var(--fill-color);\n",
              "    }\n",
              "  }\n",
              "</style>\n",
              "\n",
              "  <script>\n",
              "    async function quickchart(key) {\n",
              "      const quickchartButtonEl =\n",
              "        document.querySelector('#' + key + ' button');\n",
              "      quickchartButtonEl.disabled = true;  // To prevent multiple clicks.\n",
              "      quickchartButtonEl.classList.add('colab-df-spinner');\n",
              "      try {\n",
              "        const charts = await google.colab.kernel.invokeFunction(\n",
              "            'suggestCharts', [key], {});\n",
              "      } catch (error) {\n",
              "        console.error('Error during call to suggestCharts:', error);\n",
              "      }\n",
              "      quickchartButtonEl.classList.remove('colab-df-spinner');\n",
              "      quickchartButtonEl.classList.add('colab-df-quickchart-complete');\n",
              "    }\n",
              "    (() => {\n",
              "      let quickchartButtonEl =\n",
              "        document.querySelector('#df-93d6dd1e-3216-40df-b68e-97908f19b4a2 button');\n",
              "      quickchartButtonEl.style.display =\n",
              "        google.colab.kernel.accessAllowed ? 'block' : 'none';\n",
              "    })();\n",
              "  </script>\n",
              "</div>\n",
              "    </div>\n",
              "  </div>\n"
            ]
          },
          "metadata": {},
          "execution_count": 21
        }
      ]
    },
    {
      "cell_type": "code",
      "source": [
        "from nltk.tokenize import TweetTokenizer\n",
        "tk = TweetTokenizer()"
      ],
      "metadata": {
        "id": "M0JCajXCnw3Z"
      },
      "execution_count": null,
      "outputs": []
    },
    {
      "cell_type": "code",
      "source": [
        "for index, row in data.iterrows():\n",
        "    print(tk.tokenize(row['text']))"
      ],
      "metadata": {
        "colab": {
          "base_uri": "https://localhost:8080/"
        },
        "id": "awXGGGhTn3tC",
        "outputId": "0d2f9881-d345-4cf1-f8ce-7c800e2eaed2"
      },
      "execution_count": null,
      "outputs": [
        {
          "output_type": "stream",
          "name": "stdout",
          "text": [
            "['@ian_delaCalva', '@IrantzuVarela', '@pikaramagazine', 'Oye', 'por', 'qué', 'no', 'molestas', 'a', 'tu', 'puta', 'madre', '?']\n",
            "['NINGUNA', 'MUJER', 'ES', \"'\", 'PUTA', \"'\", '❗', '❗', '❗', 'https://t.co/cV0CQM5RIg']\n",
            "['Editar', ',', 'además', 'de', 'complicado', ',', 'es', 'lo', 'que', 'hace', 'de', 'algo', 'que', 'merezca', 'la', 'pena', 'o', 'no', ',', 'porque', 'puedes', 'haber', 'grabado', 'la', 'puta', 'hostia', 'de', 'planos', ',', 'que', 'si', 'no', 'los', 'montas', 'bien', ',', 'con', 'un', 'sentido', 'y', 'los', 'maquillas', 'atractivamente', ',', 'se', 'va', 'a', 'la', 'mierda', '.']\n",
            "['Bien', 'joder', 'una', 'puta', 'alegría', '!', '!', 'Te', 'lo', 'mereces', 'pequeña', '#OTGala9']\n",
            "['Todo', 'política', '...', 'no', 'se', 'levanta', 'la', 'sesión', 'y', 'estos', 'hijos', 'de', 'puta', 'mandan', 'a', 'los', 'peones', 'que', 'están', 'en', 'la', 'plaza', 'y', 'provocar', 'violencia', '...', '15', 'policías', 'heridos', 'pero', 'no', 'pasa', 'nada', '...', 'si', 'esos', 'que', 'están', 'ahí', 'son', 'el', 'pueblo', '...', 'DIOS', 'MIO', 'el', 'pueblo', 'es', 'mi', 'vieja', 'que', 'se', 'rompe', 'el', 'lomo', 'laburando', 'no', 'ellos', '.']\n",
            "['Casuso', 'callate', 'de', 'una', 'puta', 'vez', 'https://t.co/tWmjW1UFMM']\n",
            "['@BedMM', '@NayBetania', 'Tú', 'eres', 'la', 'culpable', ',', 'perra', '>', ':', 'v']\n",
            "['Yo', 'no', 'puedo', 'creer', 'que', 'las', 'propias', 'mujeres', 'naturalicen', 'una', 'violación', 'o', 'acoso', 'y', 'lo', 'justifiquen', 'con', 'que', 'la', 'mujer', 'es', 'la', 'que', '“', 'provoca', '”', '.', 'Que', 'mente', 'de', 'mierda', 'la', 'puta', 'madre']\n",
            "['@DalasReview', '@jk_rowling', 'Hijo', 'de', 'puta', 'muerete', 'asqueroso', 'no', 'te', 'mereces', 'esa', 'mierda']\n",
            "['@Wachit0', '@100Akshat', '@_Midoriyaa_', '@NeohSJ', 'La', 'idea', 'está', 'la', 'polla', 'con', 'cebolla', 'pero', 'obviamente', 'no', 'todos', 'van', 'a', 'entrar', 'por', 'desconfianza', ',', 'pero', 'entrarán', 'los', 'que', 'quieran', 'ir', 'y', 'tengan', 'confianza']\n"
          ]
        }
      ]
    },
    {
      "cell_type": "code",
      "source": [
        "from nltk.stem import SnowballStemmer\n",
        "sp_stemmer=SnowballStemmer('spanish')\n",
        "from nltk.corpus import stopwords\n",
        "vocab=[]\n",
        "tokens=[]\n",
        "for index, row in data.iterrows():\n",
        "    for word in tk.tokenize(row['text']):   #preprocesamiento: tokenizador Twitter\n",
        "        if(word.isalnum()):                 #a)elimina signos\n",
        "            if word not in stopwords.words('spanish'): #b) palabras vacias\n",
        "                vocab.append(sp_stemmer.stem(word.lower()))  #c) minusculas y reducción a raiz\n",
        "print(vocab)"
      ],
      "metadata": {
        "colab": {
          "base_uri": "https://localhost:8080/"
        },
        "id": "Lbt7-lhZoPJS",
        "outputId": "ad2bf29d-7887-467e-e4fc-107489319476"
      },
      "execution_count": null,
      "outputs": [
        {
          "output_type": "stream",
          "name": "stdout",
          "text": [
            "['oye', 'molest', 'put', 'madr', 'ningun', 'muj', 'es', 'put', 'edit', 'ademas', 'complic', 'hac', 'merezc', 'pen', 'pued', 'hab', 'grab', 'put', 'hosti', 'plan', 'si', 'mont', 'bien', 'maquill', 'atract', 'va', 'mierd', 'bien', 'jod', 'put', 'alegr', 'te', 'merec', 'pequeñ', 'tod', 'polit', 'levant', 'sesion', 'hij', 'put', 'mand', 'peon', 'plaz', 'provoc', 'violenci', '15', 'polic', 'her', 'pas', 'si', 'ahi', 'puebl', 'dios', 'mio', 'puebl', 'viej', 'romp', 'lom', 'labur', 'casus', 'callat', 'put', 'vez', 'tu', 'culpabl', 'perr', 'v', 'yo', 'pued', 'cre', 'propi', 'mujer', 'naturalic', 'violacion', 'acos', 'justifiqu', 'muj', 'provoc', 'que', 'ment', 'mierd', 'put', 'madr', 'hij', 'put', 'mueret', 'asquer', 'merec', 'mierd', 'la', 'ide', 'poll', 'ceboll', 'obvi', 'van', 'entrar', 'desconfi', 'entraran', 'quier', 'ir', 'confianz']\n"
          ]
        }
      ]
    },
    {
      "cell_type": "code",
      "source": [
        "from nltk.probability import FreqDist\n",
        "fdist=FreqDist(vocab)\n",
        "fdist.keys()\n",
        "fdist.plot(15, cumulative=False)"
      ],
      "metadata": {
        "colab": {
          "base_uri": "https://localhost:8080/",
          "height": 497
        },
        "id": "WyATvx_cocgS",
        "outputId": "36bc97cd-136f-4a48-82dd-e9c6b16ab4a5"
      },
      "execution_count": null,
      "outputs": [
        {
          "output_type": "display_data",
          "data": {
            "text/plain": [
              "<Figure size 640x480 with 1 Axes>"
            ],
            "image/png": "[encoded data removed]"
          },
          "metadata": {}
        },
        {
          "output_type": "execute_result",
          "data": {
            "text/plain": [
              "<Axes: xlabel='Samples', ylabel='Counts'>"
            ]
          },
          "metadata": {},
          "execution_count": 25
        }
      ]
    },
    {
      "cell_type": "code",
      "source": [
        "nltk.download('cess_esp')\n",
        "from nltk.corpus import cess_esp as cess\n",
        "from nltk import UnigramTagger as ut\n",
        "from nltk import BigramTagger as bt\n",
        "\n",
        "cess_sents = cess.tagged_sents()\n",
        "fraction = int(len(cess_sents)*90/100)\n",
        "uni_tagger = ut(cess_sents[:fraction])\n",
        "uni_tagger.evaluate(cess_sents[fraction+1:])"
      ],
      "metadata": {
        "colab": {
          "base_uri": "https://localhost:8080/"
        },
        "id": "GmDnAIHapJbq",
        "outputId": "b0e4a7b9-2ba4-42c7-d14a-e26631e57134"
      },
      "execution_count": null,
      "outputs": [
        {
          "output_type": "stream",
          "name": "stderr",
          "text": [
            "[nltk_data] Downloading package cess_esp to /root/nltk_data...\n",
            "[nltk_data]   Unzipping corpora/cess_esp.zip.\n",
            "<ipython-input-3-91046ac5d76a>:9: DeprecationWarning: \n",
            "  Function evaluate() has been deprecated.  Use accuracy(gold)\n",
            "  instead.\n",
            "  uni_tagger.evaluate(cess_sents[fraction+1:])\n"
          ]
        },
        {
          "output_type": "execute_result",
          "data": {
            "text/plain": [
              "0.8069484240687679"
            ]
          },
          "metadata": {},
          "execution_count": 3
        }
      ]
    },
    {
      "cell_type": "code",
      "source": [
        "uni_tagger.tag(\"Yo soy una persona muy amable\".split(\" \"))"
      ],
      "metadata": {
        "colab": {
          "base_uri": "https://localhost:8080/"
        },
        "id": "QYHllb6TpnO0",
        "outputId": "7aaf0f5e-487f-4144-bf58-68dcea4d838f"
      },
      "execution_count": null,
      "outputs": [
        {
          "output_type": "execute_result",
          "data": {
            "text/plain": [
              "[('Yo', 'pp1csn00'),\n",
              " ('soy', 'vsip1s0'),\n",
              " ('una', 'di0fs0'),\n",
              " ('persona', 'ncfs000'),\n",
              " ('muy', 'rg'),\n",
              " ('amable', None)]"
            ]
          },
          "metadata": {},
          "execution_count": 4
        }
      ]
    },
    {
      "cell_type": "code",
      "source": [
        "#Stanza\n",
        "\n",
        "!pip install stanza"
      ],
      "metadata": {
        "colab": {
          "base_uri": "https://localhost:8080/"
        },
        "id": "u6xV-cZEqdk1",
        "outputId": "6a05df56-1d78-49bc-de65-2a298e7c483e"
      },
      "execution_count": null,
      "outputs": [
        {
          "output_type": "stream",
          "name": "stdout",
          "text": [
            "Collecting stanza\n",
            "  Downloading stanza-1.9.2-py3-none-any.whl.metadata (13 kB)\n",
            "Collecting emoji (from stanza)\n",
            "  Downloading emoji-2.14.0-py3-none-any.whl.metadata (5.7 kB)\n",
            "Requirement already satisfied: numpy in /usr/local/lib/python3.10/dist-packages (from stanza) (1.26.4)\n",
            "Requirement already satisfied: protobuf>=3.15.0 in /usr/local/lib/python3.10/dist-packages (from stanza) (3.20.3)\n",
            "Requirement already satisfied: requests in /usr/local/lib/python3.10/dist-packages (from stanza) (2.32.3)\n",
            "Requirement already satisfied: networkx in /usr/local/lib/python3.10/dist-packages (from stanza) (3.4.2)\n",
            "Requirement already satisfied: torch>=1.3.0 in /usr/local/lib/python3.10/dist-packages (from stanza) (2.5.0+cu121)\n",
            "Requirement already satisfied: tqdm in /usr/local/lib/python3.10/dist-packages (from stanza) (4.66.6)\n",
            "Requirement already satisfied: tomli in /usr/local/lib/python3.10/dist-packages (from stanza) (2.0.2)\n",
            "Requirement already satisfied: filelock in /usr/local/lib/python3.10/dist-packages (from torch>=1.3.0->stanza) (3.16.1)\n",
            "Requirement already satisfied: typing-extensions>=4.8.0 in /usr/local/lib/python3.10/dist-packages (from torch>=1.3.0->stanza) (4.12.2)\n",
            "Requirement already satisfied: jinja2 in /usr/local/lib/python3.10/dist-packages (from torch>=1.3.0->stanza) (3.1.4)\n",
            "Requirement already satisfied: fsspec in /usr/local/lib/python3.10/dist-packages (from torch>=1.3.0->stanza) (2024.10.0)\n",
            "Requirement already satisfied: sympy==1.13.1 in /usr/local/lib/python3.10/dist-packages (from torch>=1.3.0->stanza) (1.13.1)\n",
            "Requirement already satisfied: mpmath<1.4,>=1.1.0 in /usr/local/lib/python3.10/dist-packages (from sympy==1.13.1->torch>=1.3.0->stanza) (1.3.0)\n",
            "Requirement already satisfied: charset-normalizer<4,>=2 in /usr/local/lib/python3.10/dist-packages (from requests->stanza) (3.4.0)\n",
            "Requirement already satisfied: idna<4,>=2.5 in /usr/local/lib/python3.10/dist-packages (from requests->stanza) (3.10)\n",
            "Requirement already satisfied: urllib3<3,>=1.21.1 in /usr/local/lib/python3.10/dist-packages (from requests->stanza) (2.2.3)\n",
            "Requirement already satisfied: certifi>=2017.4.17 in /usr/local/lib/python3.10/dist-packages (from requests->stanza) (2024.8.30)\n",
            "Requirement already satisfied: MarkupSafe>=2.0 in /usr/local/lib/python3.10/dist-packages (from jinja2->torch>=1.3.0->stanza) (3.0.2)\n",
            "Downloading stanza-1.9.2-py3-none-any.whl (1.1 MB)\n",
            "\u001b[2K   \u001b[90m━━━━━━━━━━━━━━━━━━━━━━━━━━━━━━━━━━━━━━━━\u001b[0m \u001b[32m1.1/1.1 MB\u001b[0m \u001b[31m13.4 MB/s\u001b[0m eta \u001b[36m0:00:00\u001b[0m\n",
            "\u001b[?25hDownloading emoji-2.14.0-py3-none-any.whl (586 kB)\n",
            "\u001b[2K   \u001b[90m━━━━━━━━━━━━━━━━━━━━━━━━━━━━━━━━━━━━━━━━\u001b[0m \u001b[32m586.9/586.9 kB\u001b[0m \u001b[31m25.1 MB/s\u001b[0m eta \u001b[36m0:00:00\u001b[0m\n",
            "\u001b[?25hInstalling collected packages: emoji, stanza\n",
            "Successfully installed emoji-2.14.0 stanza-1.9.2\n"
          ]
        }
      ]
    },
    {
      "cell_type": "code",
      "source": [
        "import stanza\n",
        "stanza.download('es')"
      ],
      "metadata": {
        "colab": {
          "base_uri": "https://localhost:8080/",
          "height": 150,
          "referenced_widgets": [
            "1f2daf5551c544d384290dea1ea96d05",
            "70f055904ce74a2b948e80e066369ad8",
            "db43a8e74ec844839cdcdb716861ef6e",
            "847eaa8059864c90854963cb4123752a",
            "89aaf9bba4204b82a0b0d04c8028b5a7",
            "8f9e6f3a17324ca2b39c843ae17776c9",
            "a25dc34e3f534aa2bb97151ff489a83f",
            "b858b394857149098841101d776094bd",
            "7ff2336ce387403cb191051547fd4561",
            "27589a5f784d4b7daf5a29da7d489373",
            "3db95993b3bc4260a15e8d5296a58d59",
            "525cb15e00d146d596ad48c0a53338f4",
            "ac5c7549c042497fb4778e51fa4412b0",
            "601a230f8df64d2597c6265d23be1fef",
            "9128f0d56f1c4756ab9f810f235d047a",
            "41ada61b42f94e96b9d15ddd7fe4a201",
            "4f9efa7cbc3048e0a9b39d1436d0febd",
            "f98ab0e697a2460daf6bb0b0014675c6",
            "b14a8b5b5b4a459b9f37a2395c588d78",
            "3a14dfcfef844faca682dff559f25111",
            "02c2161446664bcaa01184a42945659f",
            "d48974f96fb042da81252b0facdecaae"
          ]
        },
        "id": "1nD1zh91qlYL",
        "outputId": "1f59063a-1b9b-42b4-b82f-71a2cd069ff1"
      },
      "execution_count": null,
      "outputs": [
        {
          "output_type": "display_data",
          "data": {
            "text/plain": [
              "Downloading https://raw.githubusercontent.com/stanfordnlp/stanza-resources/main/resources_1.9.0.json:   0%|   …"
            ],
            "application/vnd.jupyter.widget-view+json": {
              "version_major": 2,
              "version_minor": 0,
              "model_id": "1f2daf5551c544d384290dea1ea96d05"
            }
          },
          "metadata": {}
        },
        {
          "output_type": "stream",
          "name": "stderr",
          "text": [
            "INFO:stanza:Downloaded file to /root/stanza_resources/resources.json\n",
            "INFO:stanza:Downloading default packages for language: es (Spanish) ...\n"
          ]
        },
        {
          "output_type": "display_data",
          "data": {
            "text/plain": [
              "Downloading https://huggingface.co/stanfordnlp/stanza-es/resolve/v1.9.0/models/default.zip:   0%|          | 0…"
            ],
            "application/vnd.jupyter.widget-view+json": {
              "version_major": 2,
              "version_minor": 0,
              "model_id": "525cb15e00d146d596ad48c0a53338f4"
            }
          },
          "metadata": {}
        },
        {
          "output_type": "stream",
          "name": "stderr",
          "text": [
            "INFO:stanza:Downloaded file to /root/stanza_resources/es/default.zip\n",
            "INFO:stanza:Finished downloading models and saved to /root/stanza_resources\n"
          ]
        }
      ]
    },
    {
      "cell_type": "code",
      "source": [
        "nlp=stanza.Pipeline('es', processors='tokenize,pos')"
      ],
      "metadata": {
        "colab": {
          "base_uri": "https://localhost:8080/",
          "height": 538,
          "referenced_widgets": [
            "9b0b785926f74fa1aca440523ca509fe",
            "197c15755dd74947a9602e8b41c6afbe",
            "e9cb325d449f4952bea75033fe020823",
            "84ee0ca581e44ad78b23c39bd77c1d80",
            "3cbbb9b6ec14488bbc184cec5c2b1690",
            "19f8c7cb14a349a08144bc064a3a92d4",
            "d96fb86ba6a2401c8dc9f125c1a04d80",
            "945a3f6d3e03427bac9e4577b814a987",
            "c2936deca43141e2a5a995306401ff00",
            "1cb4623fc1774496b0a7a6fd48503c15",
            "767e3449485647f284aa4a61723bd695"
          ]
        },
        "id": "0mdrCK-Hq1Wk",
        "outputId": "15a67cbd-8f49-4d18-c057-d599acef6137"
      },
      "execution_count": null,
      "outputs": [
        {
          "output_type": "stream",
          "name": "stderr",
          "text": [
            "INFO:stanza:Checking for updates to resources.json in case models have been updated.  Note: this behavior can be turned off with download_method=None or download_method=DownloadMethod.REUSE_RESOURCES\n"
          ]
        },
        {
          "output_type": "display_data",
          "data": {
            "text/plain": [
              "Downloading https://raw.githubusercontent.com/stanfordnlp/stanza-resources/main/resources_1.9.0.json:   0%|   …"
            ],
            "application/vnd.jupyter.widget-view+json": {
              "version_major": 2,
              "version_minor": 0,
              "model_id": "9b0b785926f74fa1aca440523ca509fe"
            }
          },
          "metadata": {}
        },
        {
          "output_type": "stream",
          "name": "stderr",
          "text": [
            "INFO:stanza:Downloaded file to /root/stanza_resources/resources.json\n",
            "WARNING:stanza:Language es package default expects mwt, which has been added\n",
            "INFO:stanza:Loading these models for language: es (Spanish):\n",
            "===============================\n",
            "| Processor | Package         |\n",
            "-------------------------------\n",
            "| tokenize  | combined        |\n",
            "| mwt       | combined        |\n",
            "| pos       | combined_charlm |\n",
            "===============================\n",
            "\n",
            "INFO:stanza:Using device: cpu\n",
            "INFO:stanza:Loading: tokenize\n",
            "/usr/local/lib/python3.10/dist-packages/stanza/models/tokenization/trainer.py:82: FutureWarning: You are using `torch.load` with `weights_only=False` (the current default value), which uses the default pickle module implicitly. It is possible to construct malicious pickle data which will execute arbitrary code during unpickling (See https://github.com/pytorch/pytorch/blob/main/SECURITY.md#untrusted-models for more details). In a future release, the default value for `weights_only` will be flipped to `True`. This limits the functions that could be executed during unpickling. Arbitrary objects will no longer be allowed to be loaded via this mode unless they are explicitly allowlisted by the user via `torch.serialization.add_safe_globals`. We recommend you start setting `weights_only=True` for any use case where you don't have full control of the loaded file. Please open an issue on GitHub for any issues related to this experimental feature.\n",
            "  checkpoint = torch.load(filename, lambda storage, loc: storage)\n",
            "INFO:stanza:Loading: mwt\n",
            "/usr/local/lib/python3.10/dist-packages/stanza/models/mwt/trainer.py:201: FutureWarning: You are using `torch.load` with `weights_only=False` (the current default value), which uses the default pickle module implicitly. It is possible to construct malicious pickle data which will execute arbitrary code during unpickling (See https://github.com/pytorch/pytorch/blob/main/SECURITY.md#untrusted-models for more details). In a future release, the default value for `weights_only` will be flipped to `True`. This limits the functions that could be executed during unpickling. Arbitrary objects will no longer be allowed to be loaded via this mode unless they are explicitly allowlisted by the user via `torch.serialization.add_safe_globals`. We recommend you start setting `weights_only=True` for any use case where you don't have full control of the loaded file. Please open an issue on GitHub for any issues related to this experimental feature.\n",
            "  checkpoint = torch.load(filename, lambda storage, loc: storage)\n",
            "INFO:stanza:Loading: pos\n",
            "/usr/local/lib/python3.10/dist-packages/stanza/models/pos/trainer.py:139: FutureWarning: You are using `torch.load` with `weights_only=False` (the current default value), which uses the default pickle module implicitly. It is possible to construct malicious pickle data which will execute arbitrary code during unpickling (See https://github.com/pytorch/pytorch/blob/main/SECURITY.md#untrusted-models for more details). In a future release, the default value for `weights_only` will be flipped to `True`. This limits the functions that could be executed during unpickling. Arbitrary objects will no longer be allowed to be loaded via this mode unless they are explicitly allowlisted by the user via `torch.serialization.add_safe_globals`. We recommend you start setting `weights_only=True` for any use case where you don't have full control of the loaded file. Please open an issue on GitHub for any issues related to this experimental feature.\n",
            "  checkpoint = torch.load(filename, lambda storage, loc: storage)\n",
            "/usr/local/lib/python3.10/dist-packages/stanza/models/common/pretrain.py:56: FutureWarning: You are using `torch.load` with `weights_only=False` (the current default value), which uses the default pickle module implicitly. It is possible to construct malicious pickle data which will execute arbitrary code during unpickling (See https://github.com/pytorch/pytorch/blob/main/SECURITY.md#untrusted-models for more details). In a future release, the default value for `weights_only` will be flipped to `True`. This limits the functions that could be executed during unpickling. Arbitrary objects will no longer be allowed to be loaded via this mode unless they are explicitly allowlisted by the user via `torch.serialization.add_safe_globals`. We recommend you start setting `weights_only=True` for any use case where you don't have full control of the loaded file. Please open an issue on GitHub for any issues related to this experimental feature.\n",
            "  data = torch.load(self.filename, lambda storage, loc: storage)\n",
            "/usr/local/lib/python3.10/dist-packages/stanza/models/common/char_model.py:271: FutureWarning: You are using `torch.load` with `weights_only=False` (the current default value), which uses the default pickle module implicitly. It is possible to construct malicious pickle data which will execute arbitrary code during unpickling (See https://github.com/pytorch/pytorch/blob/main/SECURITY.md#untrusted-models for more details). In a future release, the default value for `weights_only` will be flipped to `True`. This limits the functions that could be executed during unpickling. Arbitrary objects will no longer be allowed to be loaded via this mode unless they are explicitly allowlisted by the user via `torch.serialization.add_safe_globals`. We recommend you start setting `weights_only=True` for any use case where you don't have full control of the loaded file. Please open an issue on GitHub for any issues related to this experimental feature.\n",
            "  state = torch.load(filename, lambda storage, loc: storage)\n",
            "INFO:stanza:Done loading processors!\n"
          ]
        }
      ]
    },
    {
      "cell_type": "code",
      "source": [
        "doc=nlp('yo soy una persona muy amable')"
      ],
      "metadata": {
        "id": "54HD3i9BrF5t"
      },
      "execution_count": null,
      "outputs": []
    },
    {
      "cell_type": "code",
      "source": [
        "for sentence in doc.sentences:\n",
        "  for word in sentence.words:\n",
        "    print(word.text, word.pos)"
      ],
      "metadata": {
        "colab": {
          "base_uri": "https://localhost:8080/"
        },
        "id": "57PrdAkMrPC9",
        "outputId": "f1dd6d21-645e-434f-857d-66b6a77f344e"
      },
      "execution_count": null,
      "outputs": [
        {
          "output_type": "stream",
          "name": "stdout",
          "text": [
            "yo PRON\n",
            "soy AUX\n",
            "una DET\n",
            "persona NOUN\n",
            "muy ADV\n",
            "amable ADJ\n"
          ]
        }
      ]
    },
    {
      "cell_type": "markdown",
      "source": [
        "Pasamos a trabajar con Bag of Words, representación numérica del Texto"
      ],
      "metadata": {
        "id": "tDByFryitKE_"
      }
    },
    {
      "cell_type": "code",
      "source": [
        "from sklearn.feature_extraction.text import CountVectorizer\n",
        "# lista de documentos de texto\n",
        "text = ['Me gusta jugar al fútbol','¿Saliste a jugar al tenis?','Juan y yo jugamos al tenis, tenis']\n",
        "# creamos la matriz\n",
        "vectorizer = CountVectorizer()\n",
        "# tokenizamos y construimos vocabulario\n",
        "vectorizer.fit(text)"
      ],
      "metadata": {
        "colab": {
          "base_uri": "https://localhost:8080/",
          "height": 80
        },
        "id": "sSfgmCwrtIuJ",
        "outputId": "445aac77-600f-473f-804b-4fbf1cbba644"
      },
      "execution_count": null,
      "outputs": [
        {
          "output_type": "execute_result",
          "data": {
            "text/plain": [
              "CountVectorizer()"
            ],
            "text/html": [
              "<style>#sk-container-id-1 {\n",
              "  /* Definition of color scheme common for light and dark mode */\n",
              "  --sklearn-color-text: black;\n",
              "  --sklearn-color-line: gray;\n",
              "  /* Definition of color scheme for unfitted estimators */\n",
              "  --sklearn-color-unfitted-level-0: #fff5e6;\n",
              "  --sklearn-color-unfitted-level-1: #f6e4d2;\n",
              "  --sklearn-color-unfitted-level-2: #ffe0b3;\n",
              "  --sklearn-color-unfitted-level-3: chocolate;\n",
              "  /* Definition of color scheme for fitted estimators */\n",
              "  --sklearn-color-fitted-level-0: #f0f8ff;\n",
              "  --sklearn-color-fitted-level-1: #d4ebff;\n",
              "  --sklearn-color-fitted-level-2: #b3dbfd;\n",
              "  --sklearn-color-fitted-level-3: cornflowerblue;\n",
              "\n",
              "  /* Specific color for light theme */\n",
              "  --sklearn-color-text-on-default-background: var(--sg-text-color, var(--theme-code-foreground, var(--jp-content-font-color1, black)));\n",
              "  --sklearn-color-background: var(--sg-background-color, var(--theme-background, var(--jp-layout-color0, white)));\n",
              "  --sklearn-color-border-box: var(--sg-text-color, var(--theme-code-foreground, var(--jp-content-font-color1, black)));\n",
              "  --sklearn-color-icon: #696969;\n",
              "\n",
              "  @media (prefers-color-scheme: dark) {\n",
              "    /* Redefinition of color scheme for dark theme */\n",
              "    --sklearn-color-text-on-default-background: var(--sg-text-color, var(--theme-code-foreground, var(--jp-content-font-color1, white)));\n",
              "    --sklearn-color-background: var(--sg-background-color, var(--theme-background, var(--jp-layout-color0, #111)));\n",
              "    --sklearn-color-border-box: var(--sg-text-color, var(--theme-code-foreground, var(--jp-content-font-color1, white)));\n",
              "    --sklearn-color-icon: #878787;\n",
              "  }\n",
              "}\n",
              "\n",
              "#sk-container-id-1 {\n",
              "  color: var(--sklearn-color-text);\n",
              "}\n",
              "\n",
              "#sk-container-id-1 pre {\n",
              "  padding: 0;\n",
              "}\n",
              "\n",
              "#sk-container-id-1 input.sk-hidden--visually {\n",
              "  border: 0;\n",
              "  clip: rect(1px 1px 1px 1px);\n",
              "  clip: rect(1px, 1px, 1px, 1px);\n",
              "  height: 1px;\n",
              "  margin: -1px;\n",
              "  overflow: hidden;\n",
              "  padding: 0;\n",
              "  position: absolute;\n",
              "  width: 1px;\n",
              "}\n",
              "\n",
              "#sk-container-id-1 div.sk-dashed-wrapped {\n",
              "  border: 1px dashed var(--sklearn-color-line);\n",
              "  margin: 0 0.4em 0.5em 0.4em;\n",
              "  box-sizing: border-box;\n",
              "  padding-bottom: 0.4em;\n",
              "  background-color: var(--sklearn-color-background);\n",
              "}\n",
              "\n",
              "#sk-container-id-1 div.sk-container {\n",
              "  /* jupyter's `normalize.less` sets `[hidden] { display: none; }`\n",
              "     but bootstrap.min.css set `[hidden] { display: none !important; }`\n",
              "     so we also need the `!important` here to be able to override the\n",
              "     default hidden behavior on the sphinx rendered scikit-learn.org.\n",
              "     See: https://github.com/scikit-learn/scikit-learn/issues/21755 */\n",
              "  display: inline-block !important;\n",
              "  position: relative;\n",
              "}\n",
              "\n",
              "#sk-container-id-1 div.sk-text-repr-fallback {\n",
              "  display: none;\n",
              "}\n",
              "\n",
              "div.sk-parallel-item,\n",
              "div.sk-serial,\n",
              "div.sk-item {\n",
              "  /* draw centered vertical line to link estimators */\n",
              "  background-image: linear-gradient(var(--sklearn-color-text-on-default-background), var(--sklearn-color-text-on-default-background));\n",
              "  background-size: 2px 100%;\n",
              "  background-repeat: no-repeat;\n",
              "  background-position: center center;\n",
              "}\n",
              "\n",
              "/* Parallel-specific style estimator block */\n",
              "\n",
              "#sk-container-id-1 div.sk-parallel-item::after {\n",
              "  content: \"\";\n",
              "  width: 100%;\n",
              "  border-bottom: 2px solid var(--sklearn-color-text-on-default-background);\n",
              "  flex-grow: 1;\n",
              "}\n",
              "\n",
              "#sk-container-id-1 div.sk-parallel {\n",
              "  display: flex;\n",
              "  align-items: stretch;\n",
              "  justify-content: center;\n",
              "  background-color: var(--sklearn-color-background);\n",
              "  position: relative;\n",
              "}\n",
              "\n",
              "#sk-container-id-1 div.sk-parallel-item {\n",
              "  display: flex;\n",
              "  flex-direction: column;\n",
              "}\n",
              "\n",
              "#sk-container-id-1 div.sk-parallel-item:first-child::after {\n",
              "  align-self: flex-end;\n",
              "  width: 50%;\n",
              "}\n",
              "\n",
              "#sk-container-id-1 div.sk-parallel-item:last-child::after {\n",
              "  align-self: flex-start;\n",
              "  width: 50%;\n",
              "}\n",
              "\n",
              "#sk-container-id-1 div.sk-parallel-item:only-child::after {\n",
              "  width: 0;\n",
              "}\n",
              "\n",
              "/* Serial-specific style estimator block */\n",
              "\n",
              "#sk-container-id-1 div.sk-serial {\n",
              "  display: flex;\n",
              "  flex-direction: column;\n",
              "  align-items: center;\n",
              "  background-color: var(--sklearn-color-background);\n",
              "  padding-right: 1em;\n",
              "  padding-left: 1em;\n",
              "}\n",
              "\n",
              "\n",
              "/* Toggleable style: style used for estimator/Pipeline/ColumnTransformer box that is\n",
              "clickable and can be expanded/collapsed.\n",
              "- Pipeline and ColumnTransformer use this feature and define the default style\n",
              "- Estimators will overwrite some part of the style using the `sk-estimator` class\n",
              "*/\n",
              "\n",
              "/* Pipeline and ColumnTransformer style (default) */\n",
              "\n",
              "#sk-container-id-1 div.sk-toggleable {\n",
              "  /* Default theme specific background. It is overwritten whether we have a\n",
              "  specific estimator or a Pipeline/ColumnTransformer */\n",
              "  background-color: var(--sklearn-color-background);\n",
              "}\n",
              "\n",
              "/* Toggleable label */\n",
              "#sk-container-id-1 label.sk-toggleable__label {\n",
              "  cursor: pointer;\n",
              "  display: block;\n",
              "  width: 100%;\n",
              "  margin-bottom: 0;\n",
              "  padding: 0.5em;\n",
              "  box-sizing: border-box;\n",
              "  text-align: center;\n",
              "}\n",
              "\n",
              "#sk-container-id-1 label.sk-toggleable__label-arrow:before {\n",
              "  /* Arrow on the left of the label */\n",
              "  content: \"▸\";\n",
              "  float: left;\n",
              "  margin-right: 0.25em;\n",
              "  color: var(--sklearn-color-icon);\n",
              "}\n",
              "\n",
              "#sk-container-id-1 label.sk-toggleable__label-arrow:hover:before {\n",
              "  color: var(--sklearn-color-text);\n",
              "}\n",
              "\n",
              "/* Toggleable content - dropdown */\n",
              "\n",
              "#sk-container-id-1 div.sk-toggleable__content {\n",
              "  max-height: 0;\n",
              "  max-width: 0;\n",
              "  overflow: hidden;\n",
              "  text-align: left;\n",
              "  /* unfitted */\n",
              "  background-color: var(--sklearn-color-unfitted-level-0);\n",
              "}\n",
              "\n",
              "#sk-container-id-1 div.sk-toggleable__content.fitted {\n",
              "  /* fitted */\n",
              "  background-color: var(--sklearn-color-fitted-level-0);\n",
              "}\n",
              "\n",
              "#sk-container-id-1 div.sk-toggleable__content pre {\n",
              "  margin: 0.2em;\n",
              "  border-radius: 0.25em;\n",
              "  color: var(--sklearn-color-text);\n",
              "  /* unfitted */\n",
              "  background-color: var(--sklearn-color-unfitted-level-0);\n",
              "}\n",
              "\n",
              "#sk-container-id-1 div.sk-toggleable__content.fitted pre {\n",
              "  /* unfitted */\n",
              "  background-color: var(--sklearn-color-fitted-level-0);\n",
              "}\n",
              "\n",
              "#sk-container-id-1 input.sk-toggleable__control:checked~div.sk-toggleable__content {\n",
              "  /* Expand drop-down */\n",
              "  max-height: 200px;\n",
              "  max-width: 100%;\n",
              "  overflow: auto;\n",
              "}\n",
              "\n",
              "#sk-container-id-1 input.sk-toggleable__control:checked~label.sk-toggleable__label-arrow:before {\n",
              "  content: \"▾\";\n",
              "}\n",
              "\n",
              "/* Pipeline/ColumnTransformer-specific style */\n",
              "\n",
              "#sk-container-id-1 div.sk-label input.sk-toggleable__control:checked~label.sk-toggleable__label {\n",
              "  color: var(--sklearn-color-text);\n",
              "  background-color: var(--sklearn-color-unfitted-level-2);\n",
              "}\n",
              "\n",
              "#sk-container-id-1 div.sk-label.fitted input.sk-toggleable__control:checked~label.sk-toggleable__label {\n",
              "  background-color: var(--sklearn-color-fitted-level-2);\n",
              "}\n",
              "\n",
              "/* Estimator-specific style */\n",
              "\n",
              "/* Colorize estimator box */\n",
              "#sk-container-id-1 div.sk-estimator input.sk-toggleable__control:checked~label.sk-toggleable__label {\n",
              "  /* unfitted */\n",
              "  background-color: var(--sklearn-color-unfitted-level-2);\n",
              "}\n",
              "\n",
              "#sk-container-id-1 div.sk-estimator.fitted input.sk-toggleable__control:checked~label.sk-toggleable__label {\n",
              "  /* fitted */\n",
              "  background-color: var(--sklearn-color-fitted-level-2);\n",
              "}\n",
              "\n",
              "#sk-container-id-1 div.sk-label label.sk-toggleable__label,\n",
              "#sk-container-id-1 div.sk-label label {\n",
              "  /* The background is the default theme color */\n",
              "  color: var(--sklearn-color-text-on-default-background);\n",
              "}\n",
              "\n",
              "/* On hover, darken the color of the background */\n",
              "#sk-container-id-1 div.sk-label:hover label.sk-toggleable__label {\n",
              "  color: var(--sklearn-color-text);\n",
              "  background-color: var(--sklearn-color-unfitted-level-2);\n",
              "}\n",
              "\n",
              "/* Label box, darken color on hover, fitted */\n",
              "#sk-container-id-1 div.sk-label.fitted:hover label.sk-toggleable__label.fitted {\n",
              "  color: var(--sklearn-color-text);\n",
              "  background-color: var(--sklearn-color-fitted-level-2);\n",
              "}\n",
              "\n",
              "/* Estimator label */\n",
              "\n",
              "#sk-container-id-1 div.sk-label label {\n",
              "  font-family: monospace;\n",
              "  font-weight: bold;\n",
              "  display: inline-block;\n",
              "  line-height: 1.2em;\n",
              "}\n",
              "\n",
              "#sk-container-id-1 div.sk-label-container {\n",
              "  text-align: center;\n",
              "}\n",
              "\n",
              "/* Estimator-specific */\n",
              "#sk-container-id-1 div.sk-estimator {\n",
              "  font-family: monospace;\n",
              "  border: 1px dotted var(--sklearn-color-border-box);\n",
              "  border-radius: 0.25em;\n",
              "  box-sizing: border-box;\n",
              "  margin-bottom: 0.5em;\n",
              "  /* unfitted */\n",
              "  background-color: var(--sklearn-color-unfitted-level-0);\n",
              "}\n",
              "\n",
              "#sk-container-id-1 div.sk-estimator.fitted {\n",
              "  /* fitted */\n",
              "  background-color: var(--sklearn-color-fitted-level-0);\n",
              "}\n",
              "\n",
              "/* on hover */\n",
              "#sk-container-id-1 div.sk-estimator:hover {\n",
              "  /* unfitted */\n",
              "  background-color: var(--sklearn-color-unfitted-level-2);\n",
              "}\n",
              "\n",
              "#sk-container-id-1 div.sk-estimator.fitted:hover {\n",
              "  /* fitted */\n",
              "  background-color: var(--sklearn-color-fitted-level-2);\n",
              "}\n",
              "\n",
              "/* Specification for estimator info (e.g. \"i\" and \"?\") */\n",
              "\n",
              "/* Common style for \"i\" and \"?\" */\n",
              "\n",
              ".sk-estimator-doc-link,\n",
              "a:link.sk-estimator-doc-link,\n",
              "a:visited.sk-estimator-doc-link {\n",
              "  float: right;\n",
              "  font-size: smaller;\n",
              "  line-height: 1em;\n",
              "  font-family: monospace;\n",
              "  background-color: var(--sklearn-color-background);\n",
              "  border-radius: 1em;\n",
              "  height: 1em;\n",
              "  width: 1em;\n",
              "  text-decoration: none !important;\n",
              "  margin-left: 1ex;\n",
              "  /* unfitted */\n",
              "  border: var(--sklearn-color-unfitted-level-1) 1pt solid;\n",
              "  color: var(--sklearn-color-unfitted-level-1);\n",
              "}\n",
              "\n",
              ".sk-estimator-doc-link.fitted,\n",
              "a:link.sk-estimator-doc-link.fitted,\n",
              "a:visited.sk-estimator-doc-link.fitted {\n",
              "  /* fitted */\n",
              "  border: var(--sklearn-color-fitted-level-1) 1pt solid;\n",
              "  color: var(--sklearn-color-fitted-level-1);\n",
              "}\n",
              "\n",
              "/* On hover */\n",
              "div.sk-estimator:hover .sk-estimator-doc-link:hover,\n",
              ".sk-estimator-doc-link:hover,\n",
              "div.sk-label-container:hover .sk-estimator-doc-link:hover,\n",
              ".sk-estimator-doc-link:hover {\n",
              "  /* unfitted */\n",
              "  background-color: var(--sklearn-color-unfitted-level-3);\n",
              "  color: var(--sklearn-color-background);\n",
              "  text-decoration: none;\n",
              "}\n",
              "\n",
              "div.sk-estimator.fitted:hover .sk-estimator-doc-link.fitted:hover,\n",
              ".sk-estimator-doc-link.fitted:hover,\n",
              "div.sk-label-container:hover .sk-estimator-doc-link.fitted:hover,\n",
              ".sk-estimator-doc-link.fitted:hover {\n",
              "  /* fitted */\n",
              "  background-color: var(--sklearn-color-fitted-level-3);\n",
              "  color: var(--sklearn-color-background);\n",
              "  text-decoration: none;\n",
              "}\n",
              "\n",
              "/* Span, style for the box shown on hovering the info icon */\n",
              ".sk-estimator-doc-link span {\n",
              "  display: none;\n",
              "  z-index: 9999;\n",
              "  position: relative;\n",
              "  font-weight: normal;\n",
              "  right: .2ex;\n",
              "  padding: .5ex;\n",
              "  margin: .5ex;\n",
              "  width: min-content;\n",
              "  min-width: 20ex;\n",
              "  max-width: 50ex;\n",
              "  color: var(--sklearn-color-text);\n",
              "  box-shadow: 2pt 2pt 4pt #999;\n",
              "  /* unfitted */\n",
              "  background: var(--sklearn-color-unfitted-level-0);\n",
              "  border: .5pt solid var(--sklearn-color-unfitted-level-3);\n",
              "}\n",
              "\n",
              ".sk-estimator-doc-link.fitted span {\n",
              "  /* fitted */\n",
              "  background: var(--sklearn-color-fitted-level-0);\n",
              "  border: var(--sklearn-color-fitted-level-3);\n",
              "}\n",
              "\n",
              ".sk-estimator-doc-link:hover span {\n",
              "  display: block;\n",
              "}\n",
              "\n",
              "/* \"?\"-specific style due to the `<a>` HTML tag */\n",
              "\n",
              "#sk-container-id-1 a.estimator_doc_link {\n",
              "  float: right;\n",
              "  font-size: 1rem;\n",
              "  line-height: 1em;\n",
              "  font-family: monospace;\n",
              "  background-color: var(--sklearn-color-background);\n",
              "  border-radius: 1rem;\n",
              "  height: 1rem;\n",
              "  width: 1rem;\n",
              "  text-decoration: none;\n",
              "  /* unfitted */\n",
              "  color: var(--sklearn-color-unfitted-level-1);\n",
              "  border: var(--sklearn-color-unfitted-level-1) 1pt solid;\n",
              "}\n",
              "\n",
              "#sk-container-id-1 a.estimator_doc_link.fitted {\n",
              "  /* fitted */\n",
              "  border: var(--sklearn-color-fitted-level-1) 1pt solid;\n",
              "  color: var(--sklearn-color-fitted-level-1);\n",
              "}\n",
              "\n",
              "/* On hover */\n",
              "#sk-container-id-1 a.estimator_doc_link:hover {\n",
              "  /* unfitted */\n",
              "  background-color: var(--sklearn-color-unfitted-level-3);\n",
              "  color: var(--sklearn-color-background);\n",
              "  text-decoration: none;\n",
              "}\n",
              "\n",
              "#sk-container-id-1 a.estimator_doc_link.fitted:hover {\n",
              "  /* fitted */\n",
              "  background-color: var(--sklearn-color-fitted-level-3);\n",
              "}\n",
              "</style><div id=\"sk-container-id-1\" class=\"sk-top-container\"><div class=\"sk-text-repr-fallback\"><pre>CountVectorizer()</pre><b>In a Jupyter environment, please rerun this cell to show the HTML representation or trust the notebook. <br />On GitHub, the HTML representation is unable to render, please try loading this page with nbviewer.org.</b></div><div class=\"sk-container\" hidden><div class=\"sk-item\"><div class=\"sk-estimator fitted sk-toggleable\"><input class=\"sk-toggleable__control sk-hidden--visually\" id=\"sk-estimator-id-1\" type=\"checkbox\" checked><label for=\"sk-estimator-id-1\" class=\"sk-toggleable__label fitted sk-toggleable__label-arrow fitted\">&nbsp;&nbsp;CountVectorizer<a class=\"sk-estimator-doc-link fitted\" rel=\"noreferrer\" target=\"_blank\" href=\"https://scikit-learn.org/1.5/modules/generated/sklearn.feature_extraction.text.CountVectorizer.html\">?<span>Documentation for CountVectorizer</span></a><span class=\"sk-estimator-doc-link fitted\">i<span>Fitted</span></span></label><div class=\"sk-toggleable__content fitted\"><pre>CountVectorizer()</pre></div> </div></div></div></div>"
            ]
          },
          "metadata": {},
          "execution_count": 10
        }
      ]
    },
    {
      "cell_type": "code",
      "source": [
        "# resumimos\n",
        "print(vectorizer.vocabulary_)\n",
        "\n",
        "# codificamos como matriz de documentos, transformando\n",
        "vector = vectorizer.transform(text)\n",
        "# mostramos\n",
        "\n",
        "print(vector.shape)\n",
        "print(sorted(vectorizer.vocabulary_))\n",
        "print(vector.toarray())"
      ],
      "metadata": {
        "colab": {
          "base_uri": "https://localhost:8080/"
        },
        "id": "aCEIxpAKtekq",
        "outputId": "45ac5b03-ba69-48d2-afe6-fe23fe59cdb5"
      },
      "execution_count": null,
      "outputs": [
        {
          "output_type": "stream",
          "name": "stdout",
          "text": [
            "{'me': 6, 'gusta': 2, 'jugar': 5, 'al': 0, 'fútbol': 1, 'saliste': 7, 'tenis': 8, 'juan': 3, 'yo': 9, 'jugamos': 4}\n",
            "(3, 10)\n",
            "['al', 'fútbol', 'gusta', 'juan', 'jugamos', 'jugar', 'me', 'saliste', 'tenis', 'yo']\n",
            "[[1 1 1 0 0 1 1 0 0 0]\n",
            " [1 0 0 0 0 1 0 1 1 0]\n",
            " [1 0 0 1 1 0 0 0 2 1]]\n"
          ]
        }
      ]
    },
    {
      "cell_type": "code",
      "source": [
        "from sklearn.feature_extraction.text import TfidfVectorizer\n",
        "# lista de documentos de texto\n",
        "text2 = ['Me gusta jugar al fútbol','¿Saliste a jugar al tenis?','Juan y yo jugamos al tenis, tenis']\n",
        "# creamos la matriz\n",
        "vectorizer = TfidfVectorizer()\n",
        "# tokenizamos y construimos vocabulario\n",
        "vectorizer.fit(text2)\n",
        "# resumimos\n",
        "print(vectorizer.vocabulary_)\n",
        "print(vectorizer.idf_)\n",
        "# codificamos como matriz de documentos, transformando\n",
        "vector = vectorizer.transform(text2)\n",
        "# mostramos\n",
        "print(vector.shape)\n",
        "print(vector.toarray())"
      ],
      "metadata": {
        "colab": {
          "base_uri": "https://localhost:8080/"
        },
        "id": "0AaJc-n4u5kz",
        "outputId": "49f3d293-ecd0-474f-cba8-6c5cc3937f61"
      },
      "execution_count": null,
      "outputs": [
        {
          "output_type": "stream",
          "name": "stdout",
          "text": [
            "{'me': 6, 'gusta': 2, 'jugar': 5, 'al': 0, 'fútbol': 1, 'saliste': 7, 'tenis': 8, 'juan': 3, 'yo': 9, 'jugamos': 4}\n",
            "[1.         1.69314718 1.69314718 1.69314718 1.69314718 1.28768207\n",
            " 1.69314718 1.69314718 1.28768207 1.69314718]\n",
            "(3, 10)\n",
            "[[0.29803159 0.50461134 0.50461134 0.         0.         0.38376993\n",
            "  0.50461134 0.         0.         0.        ]\n",
            " [0.37311881 0.         0.         0.         0.         0.4804584\n",
            "  0.         0.63174505 0.4804584  0.        ]\n",
            " [0.2482013  0.         0.         0.42024133 0.42024133 0.\n",
            "  0.         0.         0.63920872 0.42024133]]\n"
          ]
        }
      ]
    },
    {
      "cell_type": "markdown",
      "source": [
        "8. Actividad\n",
        "\n",
        "Se le pide que tome del corpus con el que vamos a trabajar en la práctica, HateEval, los 50 primero tweets. Comience a partir del resultado obtenido tras la actividad de la sesión anterior, repitiéndola para ampliar el tamaño.\n",
        "\n",
        "1. Obtenga el bag of words para ese mini-corpus y calcule su tf·idf\n",
        "\n"
      ],
      "metadata": {
        "id": "O5s5Cebrxyrw"
      }
    },
    {
      "cell_type": "code",
      "source": [
        "import pandas as pd\n",
        "\n",
        "file = ('/content/drive/MyDrive/Colab Notebooks/MORS 2324/trial_es.tsv')\n",
        "data = pd.read_csv(file, delimiter='\\t', usecols =[\"text\",\"HS\"])\n",
        "data=data[:50]\n",
        "data"
      ],
      "metadata": {
        "colab": {
          "base_uri": "https://localhost:8080/",
          "height": 1000
        },
        "id": "9euccL38xxdx",
        "outputId": "7d072cd2-f204-4637-924e-d4f1aef3ac7e"
      },
      "execution_count": null,
      "outputs": [
        {
          "output_type": "execute_result",
          "data": {
            "text/plain": [
              "                                                 text  HS\n",
              "0   @ian_delaCalva @IrantzuVarela @pikaramagazine ...   0\n",
              "1   NINGUNA MUJER ES 'PUTA' ❗❗❗ https://t.co/cV0CQ...   0\n",
              "2   Editar, además de complicado, es lo que hace d...   0\n",
              "3   Bien joder una puta alegría!! Te lo mereces pe...   0\n",
              "4   Todo política... no se levanta la sesión y est...   0\n",
              "5   Casuso callate de una puta vez https://t.co/tW...   0\n",
              "6   @BedMM @NayBetania Tú eres la culpable, perra >:v   1\n",
              "7   Yo no puedo creer que las propias mujeres natu...   0\n",
              "8   @DalasReview @jk_rowling Hijo de puta muerete ...   0\n",
              "9   @Wachit0 @100Akshat @_Midoriyaa_ @NeohSJ La id...   0\n",
              "10  Dos amigos hablando: -Raúl, q me das por mi mu...   1\n",
              "11  — Yo soy respetuoso con los demás, sólamente l...   0\n",
              "12  +¿Es que solo sabes subir historias de tu perr...   0\n",
              "13  ¿Estás en contra de Erdogan? Pues te ponemos u...   0\n",
              "14  En que se parece una mujer a un cientifico? En...   1\n",
              "15  @vanessagirona @KRLS @mossos Vienes a las mías...   0\n",
              "16  @Reforma @aurelionuno No seas hijo de puta Nuñ...   0\n",
              "17  @Barbijaputa Por culpa de los petardos tengo u...   0\n",
              "18  DIPUTADOS.HIJOS DE PUTA Q. VAN A PROVOCAR A LO...   0\n",
              "19  @Guru_socket @joaquinbarucco La mejor forma de...   0\n",
              "20  @Relatofeminista Hemos empezado de puta madre,...   0\n",
              "21  Ains... ya no queda buen machismo como el de a...   1\n",
              "22  @OneforAllDeku_ @xkingxexplosion ¡Tú no me das...   0\n",
              "23  Jajajajaja le tengo que enseñar eso a mi perra...   0\n",
              "24  @OrgMujeresCI Estoy de acuerdo, pero no sé pue...   0\n",
              "25      @anaisbernal Pásalo muy bien,te lo mereces 😘😘   0\n",
              "26  @erreleny @Fel_blan Buena descripción, aunque ...   0\n",
              "27  Esa gente insultando y condenando al asesino d...   0\n",
              "28               @Maridolvers Perra te lo merecías! 😎   1\n",
              "29  Qué es un partido doble mixto de tenis? Un sin...   1\n",
              "30  @Milenio Cállate rata asquerosa priísta de tod...   0\n",
              "31  Que es una Mujer embarazada de dos nenas y un ...   1\n",
              "32  ¿Cuál es la peor desgracia para una mujer? Par...   1\n",
              "33  ¿Porque se dice que la cerveza tiene hormonas ...   1\n",
              "34  @BeeluArzola callate puta mal parida perra re ...   1\n",
              "35  @erices16_ Cállate vos wacha trola deja de con...   1\n",
              "36  YA CALLATE PUTA PERRA ME TIENES CANSADO CON TU...   1\n",
              "37  Te odio Lidia, no te mereces a Francisco, #per...   1\n",
              "38  @GustavoOrozcoH No le enseñaron modales a esa ...   1\n",
              "39      @gonzozaqw @_piturros tu callate un mes perra   1\n",
              "40       Te voy a enseñar lo que es una perra, PERRA.   1\n",
              "41  Gracias Twitter por enseñarme que el truco par...   1\n",
              "42  @abc_es @HiginiaRoig Ya está la niña del exorc...   1\n",
              "43  @Laura99CM Ahora que me has faltado el respeto...   1\n",
              "44      @xVolkovaVera Que guarra. Búscate ya un mozo.   1\n",
              "45  Lisa agradece que tenes un dueño con corazón p...   1\n",
              "46  @SoyDas117 @LuckasDroiidYT1 @BrandonGaming6 @L...   1\n",
              "47  '¿La mitad de sueldo por ser mujer?' http://t....   1\n",
              "48  ¿Por qué una mujer no puede ser guapa e inteli...   1\n",
              "49  -Veis chicas? Nunca hay que tener piedad con e...   1"
            ],
            "text/html": [
              "\n",
              "  <div id=\"df-c549041a-b696-4fa0-a4c8-839a2901cc5c\" class=\"colab-df-container\">\n",
              "    <div>\n",
              "<style scoped>\n",
              "    .dataframe tbody tr th:only-of-type {\n",
              "        vertical-align: middle;\n",
              "    }\n",
              "\n",
              "    .dataframe tbody tr th {\n",
              "        vertical-align: top;\n",
              "    }\n",
              "\n",
              "    .dataframe thead th {\n",
              "        text-align: right;\n",
              "    }\n",
              "</style>\n",
              "<table border=\"1\" class=\"dataframe\">\n",
              "  <thead>\n",
              "    <tr style=\"text-align: right;\">\n",
              "      <th></th>\n",
              "      <th>text</th>\n",
              "      <th>HS</th>\n",
              "    </tr>\n",
              "  </thead>\n",
              "  <tbody>\n",
              "    <tr>\n",
              "      <th>0</th>\n",
              "      <td>@ian_delaCalva @IrantzuVarela @pikaramagazine ...</td>\n",
              "      <td>0</td>\n",
              "    </tr>\n",
              "    <tr>\n",
              "      <th>1</th>\n",
              "      <td>NINGUNA MUJER ES 'PUTA' ❗❗❗ https://t.co/cV0CQ...</td>\n",
              "      <td>0</td>\n",
              "    </tr>\n",
              "    <tr>\n",
              "      <th>2</th>\n",
              "      <td>Editar, además de complicado, es lo que hace d...</td>\n",
              "      <td>0</td>\n",
              "    </tr>\n",
              "    <tr>\n",
              "      <th>3</th>\n",
              "      <td>Bien joder una puta alegría!! Te lo mereces pe...</td>\n",
              "      <td>0</td>\n",
              "    </tr>\n",
              "    <tr>\n",
              "      <th>4</th>\n",
              "      <td>Todo política... no se levanta la sesión y est...</td>\n",
              "      <td>0</td>\n",
              "    </tr>\n",
              "    <tr>\n",
              "      <th>5</th>\n",
              "      <td>Casuso callate de una puta vez https://t.co/tW...</td>\n",
              "      <td>0</td>\n",
              "    </tr>\n",
              "    <tr>\n",
              "      <th>6</th>\n",
              "      <td>@BedMM @NayBetania Tú eres la culpable, perra &gt;:v</td>\n",
              "      <td>1</td>\n",
              "    </tr>\n",
              "    <tr>\n",
              "      <th>7</th>\n",
              "      <td>Yo no puedo creer que las propias mujeres natu...</td>\n",
              "      <td>0</td>\n",
              "    </tr>\n",
              "    <tr>\n",
              "      <th>8</th>\n",
              "      <td>@DalasReview @jk_rowling Hijo de puta muerete ...</td>\n",
              "      <td>0</td>\n",
              "    </tr>\n",
              "    <tr>\n",
              "      <th>9</th>\n",
              "      <td>@Wachit0 @100Akshat @_Midoriyaa_ @NeohSJ La id...</td>\n",
              "      <td>0</td>\n",
              "    </tr>\n",
              "    <tr>\n",
              "      <th>10</th>\n",
              "      <td>Dos amigos hablando: -Raúl, q me das por mi mu...</td>\n",
              "      <td>1</td>\n",
              "    </tr>\n",
              "    <tr>\n",
              "      <th>11</th>\n",
              "      <td>— Yo soy respetuoso con los demás, sólamente l...</td>\n",
              "      <td>0</td>\n",
              "    </tr>\n",
              "    <tr>\n",
              "      <th>12</th>\n",
              "      <td>+¿Es que solo sabes subir historias de tu perr...</td>\n",
              "      <td>0</td>\n",
              "    </tr>\n",
              "    <tr>\n",
              "      <th>13</th>\n",
              "      <td>¿Estás en contra de Erdogan? Pues te ponemos u...</td>\n",
              "      <td>0</td>\n",
              "    </tr>\n",
              "    <tr>\n",
              "      <th>14</th>\n",
              "      <td>En que se parece una mujer a un cientifico? En...</td>\n",
              "      <td>1</td>\n",
              "    </tr>\n",
              "    <tr>\n",
              "      <th>15</th>\n",
              "      <td>@vanessagirona @KRLS @mossos Vienes a las mías...</td>\n",
              "      <td>0</td>\n",
              "    </tr>\n",
              "    <tr>\n",
              "      <th>16</th>\n",
              "      <td>@Reforma @aurelionuno No seas hijo de puta Nuñ...</td>\n",
              "      <td>0</td>\n",
              "    </tr>\n",
              "    <tr>\n",
              "      <th>17</th>\n",
              "      <td>@Barbijaputa Por culpa de los petardos tengo u...</td>\n",
              "      <td>0</td>\n",
              "    </tr>\n",
              "    <tr>\n",
              "      <th>18</th>\n",
              "      <td>DIPUTADOS.HIJOS DE PUTA Q. VAN A PROVOCAR A LO...</td>\n",
              "      <td>0</td>\n",
              "    </tr>\n",
              "    <tr>\n",
              "      <th>19</th>\n",
              "      <td>@Guru_socket @joaquinbarucco La mejor forma de...</td>\n",
              "      <td>0</td>\n",
              "    </tr>\n",
              "    <tr>\n",
              "      <th>20</th>\n",
              "      <td>@Relatofeminista Hemos empezado de puta madre,...</td>\n",
              "      <td>0</td>\n",
              "    </tr>\n",
              "    <tr>\n",
              "      <th>21</th>\n",
              "      <td>Ains... ya no queda buen machismo como el de a...</td>\n",
              "      <td>1</td>\n",
              "    </tr>\n",
              "    <tr>\n",
              "      <th>22</th>\n",
              "      <td>@OneforAllDeku_ @xkingxexplosion ¡Tú no me das...</td>\n",
              "      <td>0</td>\n",
              "    </tr>\n",
              "    <tr>\n",
              "      <th>23</th>\n",
              "      <td>Jajajajaja le tengo que enseñar eso a mi perra...</td>\n",
              "      <td>0</td>\n",
              "    </tr>\n",
              "    <tr>\n",
              "      <th>24</th>\n",
              "      <td>@OrgMujeresCI Estoy de acuerdo, pero no sé pue...</td>\n",
              "      <td>0</td>\n",
              "    </tr>\n",
              "    <tr>\n",
              "      <th>25</th>\n",
              "      <td>@anaisbernal Pásalo muy bien,te lo mereces 😘😘</td>\n",
              "      <td>0</td>\n",
              "    </tr>\n",
              "    <tr>\n",
              "      <th>26</th>\n",
              "      <td>@erreleny @Fel_blan Buena descripción, aunque ...</td>\n",
              "      <td>0</td>\n",
              "    </tr>\n",
              "    <tr>\n",
              "      <th>27</th>\n",
              "      <td>Esa gente insultando y condenando al asesino d...</td>\n",
              "      <td>0</td>\n",
              "    </tr>\n",
              "    <tr>\n",
              "      <th>28</th>\n",
              "      <td>@Maridolvers Perra te lo merecías! 😎</td>\n",
              "      <td>1</td>\n",
              "    </tr>\n",
              "    <tr>\n",
              "      <th>29</th>\n",
              "      <td>Qué es un partido doble mixto de tenis? Un sin...</td>\n",
              "      <td>1</td>\n",
              "    </tr>\n",
              "    <tr>\n",
              "      <th>30</th>\n",
              "      <td>@Milenio Cállate rata asquerosa priísta de tod...</td>\n",
              "      <td>0</td>\n",
              "    </tr>\n",
              "    <tr>\n",
              "      <th>31</th>\n",
              "      <td>Que es una Mujer embarazada de dos nenas y un ...</td>\n",
              "      <td>1</td>\n",
              "    </tr>\n",
              "    <tr>\n",
              "      <th>32</th>\n",
              "      <td>¿Cuál es la peor desgracia para una mujer? Par...</td>\n",
              "      <td>1</td>\n",
              "    </tr>\n",
              "    <tr>\n",
              "      <th>33</th>\n",
              "      <td>¿Porque se dice que la cerveza tiene hormonas ...</td>\n",
              "      <td>1</td>\n",
              "    </tr>\n",
              "    <tr>\n",
              "      <th>34</th>\n",
              "      <td>@BeeluArzola callate puta mal parida perra re ...</td>\n",
              "      <td>1</td>\n",
              "    </tr>\n",
              "    <tr>\n",
              "      <th>35</th>\n",
              "      <td>@erices16_ Cállate vos wacha trola deja de con...</td>\n",
              "      <td>1</td>\n",
              "    </tr>\n",
              "    <tr>\n",
              "      <th>36</th>\n",
              "      <td>YA CALLATE PUTA PERRA ME TIENES CANSADO CON TU...</td>\n",
              "      <td>1</td>\n",
              "    </tr>\n",
              "    <tr>\n",
              "      <th>37</th>\n",
              "      <td>Te odio Lidia, no te mereces a Francisco, #per...</td>\n",
              "      <td>1</td>\n",
              "    </tr>\n",
              "    <tr>\n",
              "      <th>38</th>\n",
              "      <td>@GustavoOrozcoH No le enseñaron modales a esa ...</td>\n",
              "      <td>1</td>\n",
              "    </tr>\n",
              "    <tr>\n",
              "      <th>39</th>\n",
              "      <td>@gonzozaqw @_piturros tu callate un mes perra</td>\n",
              "      <td>1</td>\n",
              "    </tr>\n",
              "    <tr>\n",
              "      <th>40</th>\n",
              "      <td>Te voy a enseñar lo que es una perra, PERRA.</td>\n",
              "      <td>1</td>\n",
              "    </tr>\n",
              "    <tr>\n",
              "      <th>41</th>\n",
              "      <td>Gracias Twitter por enseñarme que el truco par...</td>\n",
              "      <td>1</td>\n",
              "    </tr>\n",
              "    <tr>\n",
              "      <th>42</th>\n",
              "      <td>@abc_es @HiginiaRoig Ya está la niña del exorc...</td>\n",
              "      <td>1</td>\n",
              "    </tr>\n",
              "    <tr>\n",
              "      <th>43</th>\n",
              "      <td>@Laura99CM Ahora que me has faltado el respeto...</td>\n",
              "      <td>1</td>\n",
              "    </tr>\n",
              "    <tr>\n",
              "      <th>44</th>\n",
              "      <td>@xVolkovaVera Que guarra. Búscate ya un mozo.</td>\n",
              "      <td>1</td>\n",
              "    </tr>\n",
              "    <tr>\n",
              "      <th>45</th>\n",
              "      <td>Lisa agradece que tenes un dueño con corazón p...</td>\n",
              "      <td>1</td>\n",
              "    </tr>\n",
              "    <tr>\n",
              "      <th>46</th>\n",
              "      <td>@SoyDas117 @LuckasDroiidYT1 @BrandonGaming6 @L...</td>\n",
              "      <td>1</td>\n",
              "    </tr>\n",
              "    <tr>\n",
              "      <th>47</th>\n",
              "      <td>'¿La mitad de sueldo por ser mujer?' http://t....</td>\n",
              "      <td>1</td>\n",
              "    </tr>\n",
              "    <tr>\n",
              "      <th>48</th>\n",
              "      <td>¿Por qué una mujer no puede ser guapa e inteli...</td>\n",
              "      <td>1</td>\n",
              "    </tr>\n",
              "    <tr>\n",
              "      <th>49</th>\n",
              "      <td>-Veis chicas? Nunca hay que tener piedad con e...</td>\n",
              "      <td>1</td>\n",
              "    </tr>\n",
              "  </tbody>\n",
              "</table>\n",
              "</div>\n",
              "    <div class=\"colab-df-buttons\">\n",
              "\n",
              "  <div class=\"colab-df-container\">\n",
              "    <button class=\"colab-df-convert\" onclick=\"convertToInteractive('df-c549041a-b696-4fa0-a4c8-839a2901cc5c')\"\n",
              "            title=\"Convert this dataframe to an interactive table.\"\n",
              "            style=\"display:none;\">\n",
              "\n",
              "  <svg xmlns=\"http://www.w3.org/2000/svg\" height=\"24px\" viewBox=\"0 -960 960 960\">\n",
              "    <path d=\"M120-120v-720h720v720H120Zm60-500h600v-160H180v160Zm220 220h160v-160H400v160Zm0 220h160v-160H400v160ZM180-400h160v-160H180v160Zm440 0h160v-160H620v160ZM180-180h160v-160H180v160Zm440 0h160v-160H620v160Z\"/>\n",
              "  </svg>\n",
              "    </button>\n",
              "\n",
              "  <style>\n",
              "    .colab-df-container {\n",
              "      display:flex;\n",
              "      gap: 12px;\n",
              "    }\n",
              "\n",
              "    .colab-df-convert {\n",
              "      background-color: #E8F0FE;\n",
              "      border: none;\n",
              "      border-radius: 50%;\n",
              "      cursor: pointer;\n",
              "      display: none;\n",
              "      fill: #1967D2;\n",
              "      height: 32px;\n",
              "      padding: 0 0 0 0;\n",
              "      width: 32px;\n",
              "    }\n",
              "\n",
              "    .colab-df-convert:hover {\n",
              "      background-color: #E2EBFA;\n",
              "      box-shadow: 0px 1px 2px rgba(60, 64, 67, 0.3), 0px 1px 3px 1px rgba(60, 64, 67, 0.15);\n",
              "      fill: #174EA6;\n",
              "    }\n",
              "\n",
              "    .colab-df-buttons div {\n",
              "      margin-bottom: 4px;\n",
              "    }\n",
              "\n",
              "    [theme=dark] .colab-df-convert {\n",
              "      background-color: #3B4455;\n",
              "      fill: #D2E3FC;\n",
              "    }\n",
              "\n",
              "    [theme=dark] .colab-df-convert:hover {\n",
              "      background-color: #434B5C;\n",
              "      box-shadow: 0px 1px 3px 1px rgba(0, 0, 0, 0.15);\n",
              "      filter: drop-shadow(0px 1px 2px rgba(0, 0, 0, 0.3));\n",
              "      fill: #FFFFFF;\n",
              "    }\n",
              "  </style>\n",
              "\n",
              "    <script>\n",
              "      const buttonEl =\n",
              "        document.querySelector('#df-c549041a-b696-4fa0-a4c8-839a2901cc5c button.colab-df-convert');\n",
              "      buttonEl.style.display =\n",
              "        google.colab.kernel.accessAllowed ? 'block' : 'none';\n",
              "\n",
              "      async function convertToInteractive(key) {\n",
              "        const element = document.querySelector('#df-c549041a-b696-4fa0-a4c8-839a2901cc5c');\n",
              "        const dataTable =\n",
              "          await google.colab.kernel.invokeFunction('convertToInteractive',\n",
              "                                                    [key], {});\n",
              "        if (!dataTable) return;\n",
              "\n",
              "        const docLinkHtml = 'Like what you see? Visit the ' +\n",
              "          '<a target=\"_blank\" href=https://colab.research.google.com/notebooks/data_table.ipynb>data table notebook</a>'\n",
              "          + ' to learn more about interactive tables.';\n",
              "        element.innerHTML = '';\n",
              "        dataTable['output_type'] = 'display_data';\n",
              "        await google.colab.output.renderOutput(dataTable, element);\n",
              "        const docLink = document.createElement('div');\n",
              "        docLink.innerHTML = docLinkHtml;\n",
              "        element.appendChild(docLink);\n",
              "      }\n",
              "    </script>\n",
              "  </div>\n",
              "\n",
              "\n",
              "<div id=\"df-bc061dda-9ac5-47e5-a05e-4b8cda28832a\">\n",
              "  <button class=\"colab-df-quickchart\" onclick=\"quickchart('df-bc061dda-9ac5-47e5-a05e-4b8cda28832a')\"\n",
              "            title=\"Suggest charts\"\n",
              "            style=\"display:none;\">\n",
              "\n",
              "<svg xmlns=\"http://www.w3.org/2000/svg\" height=\"24px\"viewBox=\"0 0 24 24\"\n",
              "     width=\"24px\">\n",
              "    <g>\n",
              "        <path d=\"M19 3H5c-1.1 0-2 .9-2 2v14c0 1.1.9 2 2 2h14c1.1 0 2-.9 2-2V5c0-1.1-.9-2-2-2zM9 17H7v-7h2v7zm4 0h-2V7h2v10zm4 0h-2v-4h2v4z\"/>\n",
              "    </g>\n",
              "</svg>\n",
              "  </button>\n",
              "\n",
              "<style>\n",
              "  .colab-df-quickchart {\n",
              "      --bg-color: #E8F0FE;\n",
              "      --fill-color: #1967D2;\n",
              "      --hover-bg-color: #E2EBFA;\n",
              "      --hover-fill-color: #174EA6;\n",
              "      --disabled-fill-color: #AAA;\n",
              "      --disabled-bg-color: #DDD;\n",
              "  }\n",
              "\n",
              "  [theme=dark] .colab-df-quickchart {\n",
              "      --bg-color: #3B4455;\n",
              "      --fill-color: #D2E3FC;\n",
              "      --hover-bg-color: #434B5C;\n",
              "      --hover-fill-color: #FFFFFF;\n",
              "      --disabled-bg-color: #3B4455;\n",
              "      --disabled-fill-color: #666;\n",
              "  }\n",
              "\n",
              "  .colab-df-quickchart {\n",
              "    background-color: var(--bg-color);\n",
              "    border: none;\n",
              "    border-radius: 50%;\n",
              "    cursor: pointer;\n",
              "    display: none;\n",
              "    fill: var(--fill-color);\n",
              "    height: 32px;\n",
              "    padding: 0;\n",
              "    width: 32px;\n",
              "  }\n",
              "\n",
              "  .colab-df-quickchart:hover {\n",
              "    background-color: var(--hover-bg-color);\n",
              "    box-shadow: 0 1px 2px rgba(60, 64, 67, 0.3), 0 1px 3px 1px rgba(60, 64, 67, 0.15);\n",
              "    fill: var(--button-hover-fill-color);\n",
              "  }\n",
              "\n",
              "  .colab-df-quickchart-complete:disabled,\n",
              "  .colab-df-quickchart-complete:disabled:hover {\n",
              "    background-color: var(--disabled-bg-color);\n",
              "    fill: var(--disabled-fill-color);\n",
              "    box-shadow: none;\n",
              "  }\n",
              "\n",
              "  .colab-df-spinner {\n",
              "    border: 2px solid var(--fill-color);\n",
              "    border-color: transparent;\n",
              "    border-bottom-color: var(--fill-color);\n",
              "    animation:\n",
              "      spin 1s steps(1) infinite;\n",
              "  }\n",
              "\n",
              "  @keyframes spin {\n",
              "    0% {\n",
              "      border-color: transparent;\n",
              "      border-bottom-color: var(--fill-color);\n",
              "      border-left-color: var(--fill-color);\n",
              "    }\n",
              "    20% {\n",
              "      border-color: transparent;\n",
              "      border-left-color: var(--fill-color);\n",
              "      border-top-color: var(--fill-color);\n",
              "    }\n",
              "    30% {\n",
              "      border-color: transparent;\n",
              "      border-left-color: var(--fill-color);\n",
              "      border-top-color: var(--fill-color);\n",
              "      border-right-color: var(--fill-color);\n",
              "    }\n",
              "    40% {\n",
              "      border-color: transparent;\n",
              "      border-right-color: var(--fill-color);\n",
              "      border-top-color: var(--fill-color);\n",
              "    }\n",
              "    60% {\n",
              "      border-color: transparent;\n",
              "      border-right-color: var(--fill-color);\n",
              "    }\n",
              "    80% {\n",
              "      border-color: transparent;\n",
              "      border-right-color: var(--fill-color);\n",
              "      border-bottom-color: var(--fill-color);\n",
              "    }\n",
              "    90% {\n",
              "      border-color: transparent;\n",
              "      border-bottom-color: var(--fill-color);\n",
              "    }\n",
              "  }\n",
              "</style>\n",
              "\n",
              "  <script>\n",
              "    async function quickchart(key) {\n",
              "      const quickchartButtonEl =\n",
              "        document.querySelector('#' + key + ' button');\n",
              "      quickchartButtonEl.disabled = true;  // To prevent multiple clicks.\n",
              "      quickchartButtonEl.classList.add('colab-df-spinner');\n",
              "      try {\n",
              "        const charts = await google.colab.kernel.invokeFunction(\n",
              "            'suggestCharts', [key], {});\n",
              "      } catch (error) {\n",
              "        console.error('Error during call to suggestCharts:', error);\n",
              "      }\n",
              "      quickchartButtonEl.classList.remove('colab-df-spinner');\n",
              "      quickchartButtonEl.classList.add('colab-df-quickchart-complete');\n",
              "    }\n",
              "    (() => {\n",
              "      let quickchartButtonEl =\n",
              "        document.querySelector('#df-bc061dda-9ac5-47e5-a05e-4b8cda28832a button');\n",
              "      quickchartButtonEl.style.display =\n",
              "        google.colab.kernel.accessAllowed ? 'block' : 'none';\n",
              "    })();\n",
              "  </script>\n",
              "</div>\n",
              "    </div>\n",
              "  </div>\n"
            ]
          },
          "metadata": {},
          "execution_count": 22
        }
      ]
    },
    {
      "cell_type": "code",
      "source": [
        "from nltk.tokenize import TweetTokenizer\n",
        "tk=TweetTokenizer()\n",
        "for index, row in data.iterrows():\n",
        "  print(tk.tokenize(row['text']))"
      ],
      "metadata": {
        "colab": {
          "base_uri": "https://localhost:8080/"
        },
        "id": "xsv9r4VYy-ro",
        "outputId": "8d0cc4f4-be7c-4633-c380-895b09cc44be"
      },
      "execution_count": null,
      "outputs": [
        {
          "output_type": "stream",
          "name": "stdout",
          "text": [
            "['@ian_delaCalva', '@IrantzuVarela', '@pikaramagazine', 'Oye', 'por', 'qué', 'no', 'molestas', 'a', 'tu', 'puta', 'madre', '?']\n",
            "['NINGUNA', 'MUJER', 'ES', \"'\", 'PUTA', \"'\", '❗', '❗', '❗', 'https://t.co/cV0CQM5RIg']\n",
            "['Editar', ',', 'además', 'de', 'complicado', ',', 'es', 'lo', 'que', 'hace', 'de', 'algo', 'que', 'merezca', 'la', 'pena', 'o', 'no', ',', 'porque', 'puedes', 'haber', 'grabado', 'la', 'puta', 'hostia', 'de', 'planos', ',', 'que', 'si', 'no', 'los', 'montas', 'bien', ',', 'con', 'un', 'sentido', 'y', 'los', 'maquillas', 'atractivamente', ',', 'se', 'va', 'a', 'la', 'mierda', '.']\n",
            "['Bien', 'joder', 'una', 'puta', 'alegría', '!', '!', 'Te', 'lo', 'mereces', 'pequeña', '#OTGala9']\n",
            "['Todo', 'política', '...', 'no', 'se', 'levanta', 'la', 'sesión', 'y', 'estos', 'hijos', 'de', 'puta', 'mandan', 'a', 'los', 'peones', 'que', 'están', 'en', 'la', 'plaza', 'y', 'provocar', 'violencia', '...', '15', 'policías', 'heridos', 'pero', 'no', 'pasa', 'nada', '...', 'si', 'esos', 'que', 'están', 'ahí', 'son', 'el', 'pueblo', '...', 'DIOS', 'MIO', 'el', 'pueblo', 'es', 'mi', 'vieja', 'que', 'se', 'rompe', 'el', 'lomo', 'laburando', 'no', 'ellos', '.']\n",
            "['Casuso', 'callate', 'de', 'una', 'puta', 'vez', 'https://t.co/tWmjW1UFMM']\n",
            "['@BedMM', '@NayBetania', 'Tú', 'eres', 'la', 'culpable', ',', 'perra', '>', ':', 'v']\n",
            "['Yo', 'no', 'puedo', 'creer', 'que', 'las', 'propias', 'mujeres', 'naturalicen', 'una', 'violación', 'o', 'acoso', 'y', 'lo', 'justifiquen', 'con', 'que', 'la', 'mujer', 'es', 'la', 'que', '“', 'provoca', '”', '.', 'Que', 'mente', 'de', 'mierda', 'la', 'puta', 'madre']\n",
            "['@DalasReview', '@jk_rowling', 'Hijo', 'de', 'puta', 'muerete', 'asqueroso', 'no', 'te', 'mereces', 'esa', 'mierda']\n",
            "['@Wachit0', '@100Akshat', '@_Midoriyaa_', '@NeohSJ', 'La', 'idea', 'está', 'la', 'polla', 'con', 'cebolla', 'pero', 'obviamente', 'no', 'todos', 'van', 'a', 'entrar', 'por', 'desconfianza', ',', 'pero', 'entrarán', 'los', 'que', 'quieran', 'ir', 'y', 'tengan', 'confianza']\n",
            "['Dos', 'amigos', 'hablando', ':', '-', 'Raúl', ',', 'q', 'me', 'das', 'por', 'mi', 'mujer', '?', '-', 'Nada', '-', 'Trato', 'hecho', '.']\n",
            "['—', 'Yo', 'soy', 'respetuoso', 'con', 'los', 'demás', ',', 'sólamente', 'les', 'recuerdo', 'lo', 'que', 'son', '.', 'Y', 'si', 'son', 'escoria', 'no', 'es', 'culpa', 'mía', '. ...', '—', '¡', 'Claro', 'que', 'lo', 'sé', '!', '¿', '¡', 'Por', 'quién', 'me', 'tomas', '!', '?']\n",
            "['+', '¿', 'Es', 'que', 'solo', 'sabes', 'subir', 'historias', 'de', 'tu', 'perra', '?', '-', '¿', 'Es', 'que', 'hay', 'algo', 'más', 'que', 'merezca', 'la', 'pena', '?']\n",
            "['¿', 'Estás', 'en', 'contra', 'de', 'Erdogan', '?', 'Pues', 'te', 'ponemos', 'una', 'foto', 'con', 'una', 'polla', 'en', 'la', 'cara', 'y', 'manipulamos', 'el', 'titular', '.', 'https://t.co/qbG04sMOsv']\n",
            "['En', 'que', 'se', 'parece', 'una', 'mujer', 'a', 'un', 'cientifico', '?', 'En', 'que', 'al', 'cientifico', 'le', 'pasan', 'cosas', 'por', 'la', 'cabeza', ',', 'y', 'a', 'la', 'mujer', 'le', 'pasan', 'cabezas', 'por', 'la', 'cosa']\n",
            "['@vanessagirona', '@KRLS', '@mossos', 'Vienes', 'a', 'las', 'mías', '...', ',', \"'\", 'políticos', \"'\", 'no', 'España', ',', 'con', 'Franco', 'eso', 'no', 'pasaba', 'teníais', 'lo', 'que', 'queríais', ',', 'todos', 'por', 'igual', ',', 'el', 'fanatismo', 'por', 'la', 'independencia', 'llegó', 'después', 'con', 'atontaos', 'a', 'los', 'que', 'votamos', ',', 'yo', 'soy', 'de', \"c's\", 'por', 'innovar', 'no', 'por', 'o']\n",
            "['@Reforma', '@aurelionuno', 'No', 'seas', 'hijo', 'de', 'puta', 'Nuño', 'según', 'tu', 'eres', 'representante', 'de', 'la', 'educación', 'puto', 'viejo', 'chismoso', 'chupate', 'mi', 'verga', '...']\n",
            "['@Barbijaputa', 'Por', 'culpa', 'de', 'los', 'petardos', 'tengo', 'unos', 'amigos', 'locos', 'por', 'encontrar', 'a', 'su', 'perrita', '.', 'Se', 'les', 'escapó', 'y', 'salió', 'huyendo', 'por', 'el', 'ruido', '.', 'https://t.co/pw4b7kWwoc']\n",
            "['DIPUTADOS.HIJOS', 'DE', 'PUTA', 'Q', '.', 'VAN', 'A', 'PROVOCAR', 'A', 'LOS', 'GENDARMES', '.', 'QUIENES', 'SON', '?', '?', 'KMAXIMO', 'DEL', 'CAÑO', 'MORO', 'BREGMAN', 'CUANDO', 'LUCHARON', '×', 'LOS', 'JUBILADOS', '?', '?']\n",
            "['@Guru_socket', '@joaquinbarucco', 'La', 'mejor', 'forma', 'de', 'dormirte', 'es', 'pegarte', 'un', 'cachetazo', ',', 'en', 'la', 'cara', 'dormido', '...', '(', 'Pensala', ')', '😠', '🙆', '...']\n",
            "['@Relatofeminista', 'Hemos', 'empezado', 'de', 'puta', 'madre', ',', 'si', 'seguimos', 'este', 'paso', 'llegaremos', 'a', 'las', 'cuevas', 'antes', 'de', 'que', 'rajoy', 'diga', 'la', 'próxima', 'gilipollez']\n",
            "['Ains', '...', 'ya', 'no', 'queda', 'buen', 'machismo', 'como', 'el', 'de', 'antes', '...']\n",
            "['@OneforAllDeku_', '@xkingxexplosion', '¡', 'Tú', 'no', 'me', 'das', 'ordenes', 'imbécil', 'voy', 'a', 'destruirle', 'la', 'polla', 'a', 'ese', 'maldito', 'subnormal', 'y', 'voy', 'hacer', 'las', 'cosas', 'a', 'mi', 'maldita', 'manera', '!', '¡', 'Apártate', 'parásito', '!']\n",
            "['Jajajajaja', 'le', 'tengo', 'que', 'enseñar', 'eso', 'a', 'mi', 'perra', '😂', 'https://t.co/rlTRFU3Dx0']\n",
            "['@OrgMujeresCI', 'Estoy', 'de', 'acuerdo', ',', 'pero', 'no', 'sé', 'puede', 'minimizar', 'o', 'relativizar', 'la', 'violación', 'o', 'el', 'acoso', 'sexual', '.', 'Sea', 'de', 'rocas', 'y', 'famosas', 'o', 'no']\n",
            "['@anaisbernal', 'Pásalo', 'muy', 'bien', ',', 'te', 'lo', 'mereces', '😘', '😘']\n",
            "['@erreleny', '@Fel_blan', 'Buena', 'descripción', ',', 'aunque', 'se', 'te', 'ha', 'olvidado', 'decir', 'la', 'puta', 'moralina', '.', 'Todos', 'tienen', 'que', 'ENSEÑARTE', 'y', 'EDUCARTE', 'con', 'su', 'puta', 'moralina', 'de', 'los', 'cojones', '.', 'Es', 'una', 'serie', 'muy', 'milenial', '.']\n",
            "['Esa', 'gente', 'insultando', 'y', 'condenando', 'al', 'asesino', 'de', 'Diana', 'Quer', 'pero', 'que', 'luego', 'le', 'quitan', 'importancia', 'al', 'acoso', ',', 'violación', 'y', 'maltrato', 'a', 'la', 'mujer', '...']\n",
            "['@Maridolvers', 'Perra', 'te', 'lo', 'merecías', '!', '😎']\n",
            "['Qué', 'es', 'un', 'partido', 'doble', 'mixto', 'de', 'tenis', '?', 'Un', 'single', 'de', 'hombres', 'con', 'obstáculos', '.']\n",
            "['@Milenio', 'Cállate', 'rata', 'asquerosa', 'priísta', 'de', 'toda', 'tu', 'perra', 'vida', '.', 'No', 'te', 'cansas', 'de', 'robar', '.', 'Pudrete', 'hijo', 'de', 'tu', 'puta', 'madre', '.']\n",
            "['Que', 'es', 'una', 'Mujer', 'embarazada', 'de', 'dos', 'nenas', 'y', 'un', 'varon', '?', 'Un', 'kit', 'de', 'limpieza', 'con', 'instrucciones', '.']\n",
            "['¿', 'Cuál', 'es', 'la', 'peor', 'desgracia', 'para', 'una', 'mujer', '?', 'Parir', 'un', 'varón', ',', 'porque', 'después', 'de', 'tener', 'un', 'cerebro', 'dentro', 'durante', '9', 'meses', ',', 'van', 'y', 'se', 'lo', 'sacan', '.']\n",
            "['¿', 'Porque', 'se', 'dice', 'que', 'la', 'cerveza', 'tiene', 'hormonas', 'femeninas', '?', 'Porque', 'cuando', 'la', 'bebes', 'conduces', 'mal', ',', 'dices', 'tonterias', 'y', 'nadie', 'te', 'hace', 'caso', '.']\n",
            "['@BeeluArzola', 'callate', 'puta', 'mal', 'parida', 'perra', 're', 'culia', 'inconciente', 'callada', 'deberias', 'estar', 'maldita']\n",
            "['@erices16_', 'Cállate', 'vos', 'wacha', 'trola', 'deja', 'de', 'confundir', 'las', 'hormonas', 'puta']\n",
            "['YA', 'CALLATE', 'PUTA', 'PERRA', 'ME', 'TIENES', 'CANSADO', 'CON', 'TUS', 'PENDEJADAS']\n",
            "['Te', 'odio', 'Lidia', ',', 'no', 'te', 'mereces', 'a', 'Francisco', ',', '#perra', '#LasChicasDelCable2']\n",
            "['@GustavoOrozcoH', 'No', 'le', 'enseñaron', 'modales', 'a', 'esa', 'antifujimorista', 'perra', 'mermelera', 'del', 'foro', 'de', 'sao', 'paulodebretch', '?', 'esta', 'ofendiendo', 'a', 'millones', 'de', 'votantes']\n",
            "['@gonzozaqw', '@_piturros', 'tu', 'callate', 'un', 'mes', 'perra']\n",
            "['Te', 'voy', 'a', 'enseñar', 'lo', 'que', 'es', 'una', 'perra', ',', 'PERRA', '.']\n",
            "['Gracias', 'Twitter', 'por', 'enseñarme', 'que', 'el', 'truco', 'para', 'ser', 'famosa', 'es', 'estar', 'bien', 'buena', 'y', 'ser', 'bien', 'puta']\n",
            "['@abc_es', '@HiginiaRoig', 'Ya', 'está', 'la', 'niña', 'del', 'exorcista', 'diciendo', 'tonterías', '.', 'Has', 'visto', 'lo', 'que', 'a', 'hecho', 'la', 'guarra', 'de', 'tú', 'hija', '.']\n",
            "['@Laura99CM', 'Ahora', 'que', 'me', 'has', 'faltado', 'el', 'respeto', 'te', 'lo', 'puedo', 'decir', 'por', 'fin', ':', '¡', 'A', 'fregar', 'puta', '!']\n",
            "['@xVolkovaVera', 'Que', 'guarra', '.', 'Búscate', 'ya', 'un', 'mozo', '.']\n",
            "['Lisa', 'agradece', 'que', 'tenes', 'un', 'dueño', 'con', 'corazón', 'porque', 'te', 'mereces', 'que', 'te', 'ahorque', 'perra', 'hdp', '😡']\n",
            "['@SoyDas117', '@LuckasDroiidYT1', '@BrandonGaming6', '@LlinxaYT', 'Y', 'tu', 'eres', 'mi', 'esposa', 've', 'a', 'la', 'cocina', 'zorra', '>', ':', 'v']\n",
            "[\"'\", '¿', 'La', 'mitad', 'de', 'sueldo', 'por', 'ser', 'mujer', '?', \"'\", 'http://t.co/HXOVOaiOuj', 'Así', 'es', ',', 'porque', 'aguantarlas', 'cuesta', 'el', 'doble', '.', '#TomaDosTazas']\n",
            "['¿', 'Por', 'qué', 'una', 'mujer', 'no', 'puede', 'ser', 'guapa', 'e', 'inteligente', '?', 'Porque', 'sería', 'un', 'hombre', '.']\n",
            "['-', 'Veis', 'chicas', '?', 'Nunca', 'hay', 'que', 'tener', 'piedad', 'con', 'estas', 'putas', '.', 'Hay', 'que', 'educarlas', 'en', 'todo', 'momento', 'y', 'enseñarles', 'para', 'lo', 'que', 'sirven', ':', 'para', 'nuestra', 'diversión', '.', 'Le', 'voy', 'a', 'reventar', 'su', 'culo', 'de', 'puta', 'mientras', 'te', 'lo', 'come', ',', 'y', 'por', 'su', 'bien', ',', 'espero', 'que', 'se', 'esfuerce', 'o', 'no', 'podrá', 'se']\n"
          ]
        }
      ]
    },
    {
      "cell_type": "code",
      "source": [
        "from nltk.stem import SnowballStemmer\n",
        "sp_stemmer=SnowballStemmer('spanish')\n",
        "from nltk.corpus import stopwords\n",
        "vocab=[]\n",
        "tokens=[]\n",
        "mydic=[]\n",
        "for index, row in data.iterrows():\n",
        "    lista=[]\n",
        "    for word in tk.tokenize(row['text']):   #preprocesamiento: tokenizador Twitter\n",
        "        if(word.isalnum()):                 #a)elimina signos\n",
        "            if word not in stopwords.words('spanish'): #b) palabras vacias\n",
        "                vocab.append(sp_stemmer.stem(word.lower()))  #c) minusculas y reducción a raiz\n",
        "                lista.append(sp_stemmer.stem(word.lower()))\n",
        "    mydic.append(lista)\n",
        "data['words']=[str (item) for item in mydic]\n",
        "print(vocab)"
      ],
      "metadata": {
        "colab": {
          "base_uri": "https://localhost:8080/"
        },
        "id": "ltk0FT6wzX2-",
        "outputId": "448d0dc3-9fbd-40b9-cb79-52936c8edcd2"
      },
      "execution_count": null,
      "outputs": [
        {
          "output_type": "stream",
          "name": "stdout",
          "text": [
            "['oye', 'molest', 'put', 'madr', 'ningun', 'muj', 'es', 'put', 'edit', 'ademas', 'complic', 'hac', 'merezc', 'pen', 'pued', 'hab', 'grab', 'put', 'hosti', 'plan', 'si', 'mont', 'bien', 'maquill', 'atract', 'va', 'mierd', 'bien', 'jod', 'put', 'alegr', 'te', 'merec', 'pequeñ', 'tod', 'polit', 'levant', 'sesion', 'hij', 'put', 'mand', 'peon', 'plaz', 'provoc', 'violenci', '15', 'polic', 'her', 'pas', 'si', 'ahi', 'puebl', 'dios', 'mio', 'puebl', 'viej', 'romp', 'lom', 'labur', 'casus', 'callat', 'put', 'vez', 'tu', 'culpabl', 'perr', 'v', 'yo', 'pued', 'cre', 'propi', 'mujer', 'naturalic', 'violacion', 'acos', 'justifiqu', 'muj', 'provoc', 'que', 'ment', 'mierd', 'put', 'madr', 'hij', 'put', 'mueret', 'asquer', 'merec', 'mierd', 'la', 'ide', 'poll', 'ceboll', 'obvi', 'van', 'entrar', 'desconfi', 'entraran', 'quier', 'ir', 'confianz', 'dos', 'amig', 'habl', 'raul', 'q', 'das', 'muj', 'nad', 'trat', 'hech', 'yo', 'respetu', 'demas', 'sol', 'recuerd', 'y', 'si', 'escori', 'culp', 'clar', 'se', 'por', 'quien', 'tom', 'es', 'sol', 'sab', 'sub', 'histori', 'perr', 'es', 'merezc', 'pen', 'estas', 'erdog', 'pues', 'pon', 'fot', 'poll', 'car', 'manipul', 'titul', 'en', 'parec', 'muj', 'cientif', 'en', 'cientif', 'pas', 'cos', 'cabez', 'muj', 'pas', 'cabez', 'cos', 'vien', 'polit', 'españ', 'franc', 'pas', 'quer', 'igual', 'fanat', 'independent', 'lleg', 'despues', 'atonta', 'vot', 'innov', 'no', 'hij', 'put', 'nuñ', 'segun', 'represent', 'educ', 'put', 'viej', 'chismos', 'chupat', 'verg', 'por', 'culp', 'petard', 'amig', 'loc', 'encontr', 'perrit', 'se', 'escap', 'sal', 'huyend', 'ruid', 'de', 'put', 'q', 'van', 'a', 'provoc', 'a', 'los', 'gendarm', 'quien', 'son', 'kmaxim', 'del', 'cañ', 'mor', 'bregm', 'cuand', 'luch', 'los', 'jubil', 'la', 'mejor', 'form', 'dormirt', 'pegart', 'cachetaz', 'car', 'dorm', 'pensal', 'hem', 'empez', 'put', 'madr', 'si', 'segu', 'pas', 'lleg', 'cuev', 'rajoy', 'dig', 'proxim', 'gilipollez', 'ains', 'qued', 'buen', 'machism', 'tu', 'das', 'orden', 'imbecil', 'voy', 'destru', 'poll', 'maldit', 'subnormal', 'voy', 'hac', 'cos', 'maldit', 'maner', 'apartat', 'parasit', 'jajajajaj', 'enseñ', 'perr', 'estoy', 'acuerd', 'se', 'pued', 'minimiz', 'relativiz', 'violacion', 'acos', 'sexual', 'sea', 'roc', 'fam', 'pasal', 'bien', 'merec', 'buen', 'descripcion', 'aunqu', 'olvid', 'dec', 'put', 'moralin', 'tod', 'enseñart', 'educart', 'put', 'moralin', 'cojon', 'es', 'seri', 'milenial', 'esa', 'gent', 'insult', 'conden', 'asesin', 'dian', 'quer', 'lueg', 'quit', 'import', 'acos', 'violacion', 'maltrat', 'muj', 'perr', 'merec', 'que', 'part', 'dobl', 'mixt', 'tenis', 'un', 'singl', 'hombr', 'obstacul', 'callat', 'rat', 'asquer', 'priist', 'tod', 'perr', 'vid', 'no', 'cans', 'rob', 'pudret', 'hij', 'put', 'madr', 'que', 'muj', 'embaraz', 'dos', 'nen', 'varon', 'un', 'kit', 'limpiez', 'instruccion', 'cual', 'peor', 'desgraci', 'muj', 'par', 'varon', 'despues', 'ten', 'cerebr', 'dentr', '9', 'mes', 'van', 'sac', 'porqu', 'dic', 'cervez', 'hormon', 'femenin', 'porqu', 'beb', 'conduc', 'mal', 'dic', 'tonteri', 'nadi', 'hac', 'cas', 'callat', 'put', 'mal', 'par', 'perr', 're', 'culi', 'inconcient', 'call', 'deberi', 'maldit', 'callat', 'vos', 'wach', 'trol', 'dej', 'confund', 'hormon', 'put', 'ya', 'callat', 'put', 'perr', 'me', 'tien', 'cans', 'con', 'tus', 'pendej', 'te', 'odi', 'lidi', 'merec', 'francisc', 'no', 'enseñ', 'modal', 'antifujimor', 'perr', 'mermeler', 'for', 'sao', 'paulodebretch', 'ofend', 'millon', 'votant', 'callat', 'mes', 'perr', 'te', 'voy', 'enseñ', 'perr', 'perr', 'graci', 'twitt', 'enseñ', 'truc', 'ser', 'famos', 'bien', 'buen', 'ser', 'bien', 'put', 'ya', 'niñ', 'exorc', 'dic', 'tont', 'has', 'vist', 'hech', 'guarr', 'hij', 'ahor', 'falt', 'respet', 'pued', 'dec', 'fin', 'a', 'freg', 'put', 'que', 'guarr', 'buscat', 'moz', 'lis', 'agradec', 'ten', 'dueñ', 'corazon', 'merec', 'ahorqu', 'perr', 'hdp', 'y', 'espos', 've', 'cocin', 'zorr', 'v', 'la', 'mit', 'sueld', 'ser', 'muj', 'asi', 'aguant', 'cuest', 'dobl', 'por', 'muj', 'pued', 'ser', 'guap', 'inteligent', 'porqu', 'hombr', 'veis', 'chic', 'nunc', 'ten', 'pied', 'put', 'hay', 'educ', 'moment', 'enseñ', 'sirv', 'diversion', 'le', 'voy', 'revent', 'cul', 'put', 'mientr', 'com', 'bien', 'esper', 'esfuerc', 'podr']\n"
          ]
        }
      ]
    },
    {
      "cell_type": "code",
      "source": [
        "from nltk.probability import FreqDist\n",
        "fdist=FreqDist(vocab)\n",
        "fdist.keys()\n",
        "fdist.plot(15, cumulative=False)"
      ],
      "metadata": {
        "colab": {
          "base_uri": "https://localhost:8080/",
          "height": 497
        },
        "id": "IU6BUzz-zdp6",
        "outputId": "d1aa1c04-30b2-4f1c-971c-2320fe2ad094"
      },
      "execution_count": null,
      "outputs": [
        {
          "output_type": "display_data",
          "data": {
            "text/plain": [
              "<Figure size 640x480 with 1 Axes>"
            ],
            "image/png": "[encoded data removed]"
          },
          "metadata": {}
        },
        {
          "output_type": "execute_result",
          "data": {
            "text/plain": [
              "<Axes: xlabel='Samples', ylabel='Counts'>"
            ]
          },
          "metadata": {},
          "execution_count": 32
        }
      ]
    },
    {
      "cell_type": "code",
      "source": [
        "from sklearn.feature_extraction.text import TfidfVectorizer\n",
        "vectorizer=TfidfVectorizer()\n",
        "\n",
        "#tokenizamos y construimos vocabulario\n",
        "X=vectorizer.fit_transform(data['words'])\n",
        "\n",
        "#resumimos\n",
        "print(vectorizer.vocabulary_)\n",
        "print(vectorizer.idf_)"
      ],
      "metadata": {
        "colab": {
          "base_uri": "https://localhost:8080/"
        },
        "id": "KmPHqZbtzz9h",
        "outputId": "79dcfadf-8414-4ad5-9cdd-0aa01174ba77"
      },
      "execution_count": null,
      "outputs": [
        {
          "output_type": "stream",
          "name": "stdout",
          "text": [
            "{'oye': 221, 'molest': 197, 'put': 257, 'madr': 173, 'ningun': 210, 'muj': 204, 'es': 97, 'edit': 85, 'ademas': 3, 'complic': 45, 'hac': 129, 'merezc': 185, 'pen': 230, 'pued': 255, 'hab': 127, 'grab': 123, 'hosti': 140, 'plan': 240, 'si': 290, 'mont': 199, 'bien': 21, 'maquill': 180, 'atract': 18, 'va': 314, 'mierd': 189, 'jod': 154, 'alegr': 10, 'te': 298, 'merec': 184, 'pequeñ': 235, 'tod': 303, 'polit': 244, 'levant': 162, 'sesion': 288, 'hij': 136, 'mand': 177, 'peon': 233, 'plaz': 241, 'provoc': 251, 'violenci': 325, '15': 0, 'polic': 243, 'her': 135, 'pas': 226, 'ahi': 6, 'puebl': 254, 'dios': 78, 'mio': 193, 'viej': 322, 'romp': 276, 'lom': 168, 'labur': 160, 'casus': 32, 'callat': 28, 'vez': 320, 'tu': 310, 'culpabl': 61, 'perr': 236, 'yo': 333, 'cre': 53, 'propi': 250, 'mujer': 205, 'naturalic': 208, 'violacion': 324, 'acos': 1, 'justifiqu': 156, 'que': 258, 'ment': 183, 'mueret': 203, 'asquer': 16, 'la': 159, 'ide': 142, 'poll': 245, 'ceboll': 34, 'obvi': 216, 'van': 315, 'entrar': 94, 'desconfi': 70, 'entraran': 95, 'quier': 262, 'ir': 152, 'confianz': 49, 'dos': 83, 'amig': 11, 'habl': 128, 'raul': 266, 'das': 62, 'nad': 206, 'trat': 307, 'hech': 133, 'respetu': 272, 'demas': 68, 'sol': 293, 'recuerd': 268, 'escori': 100, 'culp': 60, 'clar': 41, 'se': 282, 'por': 247, 'quien': 261, 'tom': 304, 'sab': 278, 'sub': 295, 'histori': 137, 'estas': 105, 'erdog': 96, 'pues': 256, 'pon': 246, 'fot': 116, 'car': 30, 'manipul': 179, 'titul': 302, 'en': 90, 'parec': 224, 'cientif': 40, 'cos': 52, 'cabez': 25, 'vien': 323, 'españ': 102, 'franc': 117, 'quer': 260, 'igual': 143, 'fanat': 111, 'independent': 147, 'lleg': 166, 'despues': 73, 'atonta': 17, 'vot': 328, 'innov': 148, 'no': 212, 'nuñ': 214, 'segun': 285, 'represent': 270, 'educ': 86, 'chismos': 38, 'chupat': 39, 'verg': 319, 'petard': 238, 'loc': 167, 'encontr': 91, 'perrit': 237, 'escap': 99, 'sal': 280, 'huyend': 141, 'ruid': 277, 'de': 63, 'los': 169, 'gendarm': 120, 'son': 294, 'kmaxim': 158, 'del': 67, 'cañ': 33, 'mor': 200, 'bregm': 22, 'cuand': 55, 'luch': 170, 'jubil': 155, 'mejor': 182, 'form': 115, 'dormirt': 82, 'pegart': 229, 'cachetaz': 26, 'dorm': 81, 'pensal': 232, 'hem': 134, 'empez': 89, 'segu': 284, 'cuev': 57, 'rajoy': 264, 'dig': 77, 'proxim': 252, 'gilipollez': 122, 'ains': 9, 'qued': 259, 'buen': 23, 'machism': 172, 'orden': 220, 'imbecil': 144, 'voy': 330, 'destru': 74, 'maldit': 175, 'subnormal': 296, 'maner': 178, 'apartat': 13, 'parasit': 223, 'jajajajaj': 153, 'enseñ': 92, 'estoy': 106, 'acuerd': 2, 'minimiz': 192, 'relativiz': 269, 'sexual': 289, 'sea': 283, 'roc': 275, 'fam': 109, 'pasal': 227, 'descripcion': 71, 'aunqu': 19, 'olvid': 219, 'dec': 65, 'moralin': 201, 'enseñart': 93, 'educart': 87, 'cojon': 43, 'seri': 287, 'milenial': 190, 'esa': 98, 'gent': 121, 'insult': 150, 'conden': 47, 'asesin': 14, 'dian': 75, 'lueg': 171, 'quit': 263, 'import': 145, 'maltrat': 176, 'part': 225, 'dobl': 80, 'mixt': 195, 'tenis': 300, 'un': 313, 'singl': 291, 'hombr': 138, 'obstacul': 215, 'rat': 265, 'priist': 249, 'vid': 321, 'cans': 29, 'rob': 274, 'pudret': 253, 'embaraz': 88, 'nen': 209, 'varon': 316, 'kit': 157, 'limpiez': 164, 'instruccion': 149, 'cual': 54, 'peor': 234, 'desgraci': 72, 'par': 222, 'ten': 299, 'cerebr': 35, 'dentr': 69, 'mes': 187, 'sac': 279, 'porqu': 248, 'dic': 76, 'cervez': 36, 'hormon': 139, 'femenin': 112, 'beb': 20, 'conduc': 48, 'mal': 174, 'tonteri': 306, 'nadi': 207, 'cas': 31, 're': 267, 'culi': 59, 'inconcient': 146, 'call': 27, 'deberi': 64, 'vos': 327, 'wach': 331, 'trol': 308, 'dej': 66, 'confund': 50, 'ya': 332, 'me': 181, 'tien': 301, 'con': 46, 'tus': 311, 'pendej': 231, 'odi': 217, 'lidi': 163, 'francisc': 118, 'modal': 196, 'antifujimor': 12, 'mermeler': 186, 'for': 114, 'sao': 281, 'paulodebretch': 228, 'ofend': 218, 'millon': 191, 'votant': 329, 'graci': 124, 'twitt': 312, 'truc': 309, 'ser': 286, 'famos': 110, 'niñ': 211, 'exorc': 107, 'tont': 305, 'has': 130, 'vist': 326, 'guarr': 126, 'ahor': 7, 'falt': 108, 'respet': 271, 'fin': 113, 'freg': 119, 'buscat': 24, 'moz': 202, 'lis': 165, 'agradec': 4, 'dueñ': 84, 'corazon': 51, 'ahorqu': 8, 'hdp': 132, 'espos': 104, 've': 317, 'cocin': 42, 'zorr': 334, 'mit': 194, 'sueld': 297, 'asi': 15, 'aguant': 5, 'cuest': 56, 'guap': 125, 'inteligent': 151, 'veis': 318, 'chic': 37, 'nunc': 213, 'pied': 239, 'hay': 131, 'moment': 198, 'sirv': 292, 'diversion': 79, 'le': 161, 'revent': 273, 'cul': 58, 'mientr': 188, 'com': 44, 'esper': 103, 'esfuerc': 101, 'podr': 242}\n",
            "[4.23867845 3.54553127 4.23867845 4.23867845 4.23867845 4.23867845\n",
            " 4.23867845 4.23867845 4.23867845 4.23867845 4.23867845 3.83321334\n",
            " 4.23867845 4.23867845 4.23867845 4.23867845 3.83321334 4.23867845\n",
            " 4.23867845 4.23867845 4.23867845 3.14006616 4.23867845 3.54553127\n",
            " 4.23867845 4.23867845 4.23867845 4.23867845 2.98591548 3.83321334\n",
            " 3.83321334 4.23867845 4.23867845 4.23867845 4.23867845 4.23867845\n",
            " 4.23867845 4.23867845 4.23867845 4.23867845 4.23867845 4.23867845\n",
            " 4.23867845 4.23867845 4.23867845 4.23867845 4.23867845 4.23867845\n",
            " 4.23867845 4.23867845 4.23867845 4.23867845 3.83321334 4.23867845\n",
            " 4.23867845 4.23867845 4.23867845 4.23867845 4.23867845 4.23867845\n",
            " 3.83321334 4.23867845 3.83321334 4.23867845 4.23867845 3.83321334\n",
            " 4.23867845 4.23867845 4.23867845 4.23867845 4.23867845 4.23867845\n",
            " 4.23867845 3.83321334 4.23867845 4.23867845 3.83321334 4.23867845\n",
            " 4.23867845 4.23867845 3.83321334 4.23867845 4.23867845 3.83321334\n",
            " 4.23867845 4.23867845 3.83321334 4.23867845 4.23867845 4.23867845\n",
            " 4.23867845 4.23867845 3.14006616 4.23867845 4.23867845 4.23867845\n",
            " 4.23867845 3.54553127 4.23867845 4.23867845 4.23867845 4.23867845\n",
            " 4.23867845 4.23867845 4.23867845 4.23867845 4.23867845 4.23867845\n",
            " 4.23867845 4.23867845 4.23867845 4.23867845 4.23867845 4.23867845\n",
            " 4.23867845 4.23867845 4.23867845 4.23867845 4.23867845 4.23867845\n",
            " 4.23867845 4.23867845 4.23867845 4.23867845 4.23867845 4.23867845\n",
            " 3.83321334 4.23867845 4.23867845 3.54553127 4.23867845 4.23867845\n",
            " 4.23867845 3.83321334 4.23867845 4.23867845 3.14006616 4.23867845\n",
            " 3.83321334 3.83321334 4.23867845 4.23867845 4.23867845 4.23867845\n",
            " 4.23867845 4.23867845 4.23867845 4.23867845 4.23867845 4.23867845\n",
            " 4.23867845 4.23867845 4.23867845 4.23867845 4.23867845 4.23867845\n",
            " 4.23867845 4.23867845 4.23867845 3.54553127 4.23867845 4.23867845\n",
            " 4.23867845 4.23867845 4.23867845 4.23867845 3.83321334 4.23867845\n",
            " 4.23867845 4.23867845 4.23867845 4.23867845 4.23867845 3.32238772\n",
            " 3.83321334 3.83321334 4.23867845 4.23867845 4.23867845 4.23867845\n",
            " 4.23867845 4.23867845 4.23867845 4.23867845 2.98591548 3.83321334\n",
            " 4.23867845 3.83321334 4.23867845 3.54553127 4.23867845 4.23867845\n",
            " 4.23867845 4.23867845 4.23867845 4.23867845 4.23867845 4.23867845\n",
            " 4.23867845 4.23867845 4.23867845 4.23867845 4.23867845 4.23867845\n",
            " 2.62924054 4.23867845 4.23867845 4.23867845 4.23867845 4.23867845\n",
            " 4.23867845 4.23867845 3.54553127 4.23867845 4.23867845 4.23867845\n",
            " 4.23867845 4.23867845 4.23867845 4.23867845 4.23867845 4.23867845\n",
            " 3.83321334 4.23867845 4.23867845 4.23867845 3.32238772 4.23867845\n",
            " 4.23867845 4.23867845 3.83321334 4.23867845 4.23867845 4.23867845\n",
            " 4.23867845 4.23867845 2.44691898 4.23867845 4.23867845 4.23867845\n",
            " 4.23867845 4.23867845 4.23867845 4.23867845 3.83321334 3.54553127\n",
            " 4.23867845 3.54553127 3.83321334 4.23867845 4.23867845 3.54553127\n",
            " 4.23867845 4.23867845 4.23867845 3.14006616 4.23867845 1.93609336\n",
            " 3.32238772 4.23867845 3.83321334 3.83321334 4.23867845 4.23867845\n",
            " 4.23867845 4.23867845 4.23867845 4.23867845 4.23867845 4.23867845\n",
            " 4.23867845 4.23867845 4.23867845 4.23867845 4.23867845 4.23867845\n",
            " 4.23867845 4.23867845 4.23867845 4.23867845 4.23867845 4.23867845\n",
            " 3.54553127 4.23867845 4.23867845 4.23867845 3.54553127 4.23867845\n",
            " 4.23867845 4.23867845 3.32238772 4.23867845 4.23867845 3.83321334\n",
            " 4.23867845 4.23867845 4.23867845 4.23867845 3.54553127 3.54553127\n",
            " 4.23867845 4.23867845 4.23867845 3.54553127 4.23867845 4.23867845\n",
            " 4.23867845 4.23867845 4.23867845 4.23867845 3.83321334 4.23867845\n",
            " 4.23867845 3.83321334 4.23867845 3.54553127 3.83321334 4.23867845\n",
            " 4.23867845 4.23867845 4.23867845 4.23867845 3.83321334 4.23867845\n",
            " 3.54553127 4.23867845 4.23867845 4.23867845 4.23867845 4.23867845\n",
            " 3.54553127 4.23867845 3.83321334 3.83321334 4.23867845]\n"
          ]
        }
      ]
    },
    {
      "cell_type": "code",
      "source": [],
      "metadata": {
        "id": "GqMcmO895YIh"
      },
      "execution_count": null,
      "outputs": []
    },
    {
      "cell_type": "markdown",
      "source": [
        "Vamos con el Aprendizaje supervisado: Clasificación"
      ],
      "metadata": {
        "id": "b6j24U1Y5ZRu"
      }
    },
    {
      "cell_type": "code",
      "source": [
        "from sklearn.datasets import load_iris\n",
        "\n",
        "iris = load_iris()\n"
      ],
      "metadata": {
        "id": "3JWTjH7N5d2t"
      },
      "execution_count": null,
      "outputs": []
    },
    {
      "cell_type": "code",
      "source": [
        "iris.keys()"
      ],
      "metadata": {
        "colab": {
          "base_uri": "https://localhost:8080/"
        },
        "id": "Du16S4Mh5qrS",
        "outputId": "32d57e1f-c98e-49be-90bf-c47c3fd2b162"
      },
      "execution_count": null,
      "outputs": [
        {
          "output_type": "execute_result",
          "data": {
            "text/plain": [
              "dict_keys(['data', 'target', 'frame', 'target_names', 'DESCR', 'feature_names', 'filename', 'data_module'])"
            ]
          },
          "metadata": {},
          "execution_count": 35
        }
      ]
    },
    {
      "cell_type": "code",
      "source": [
        "n_samples, n_features = iris.data.shape\n",
        "print('Número de ejemplos:', n_samples)\n",
        "print('Número de características:', n_features)\n",
        "# sepal length, sepal width, petal length y petal width del primer ejemplo (primera flor)\n",
        "print(iris.data[0])"
      ],
      "metadata": {
        "colab": {
          "base_uri": "https://localhost:8080/"
        },
        "id": "OGSgacVF56tu",
        "outputId": "679d2e4d-2292-4af3-e68c-d15d6321fea3"
      },
      "execution_count": null,
      "outputs": [
        {
          "output_type": "stream",
          "name": "stdout",
          "text": [
            "Número de ejemplos: 150\n",
            "Número de características: 4\n",
            "[5.1 3.5 1.4 0.2]\n"
          ]
        }
      ]
    },
    {
      "cell_type": "code",
      "source": [
        "print(iris.data.shape)\n",
        "\n",
        "print(iris.target.shape)\n"
      ],
      "metadata": {
        "colab": {
          "base_uri": "https://localhost:8080/"
        },
        "id": "1lg6mUX46KCS",
        "outputId": "5646c89e-c9da-4067-f113-0b2afb31b877"
      },
      "execution_count": null,
      "outputs": [
        {
          "output_type": "stream",
          "name": "stdout",
          "text": [
            "(150, 4)\n",
            "(150,)\n"
          ]
        }
      ]
    },
    {
      "cell_type": "code",
      "source": [
        "import numpy as np\n",
        "\n",
        "np.bincount(iris.target)"
      ],
      "metadata": {
        "colab": {
          "base_uri": "https://localhost:8080/"
        },
        "id": "FlJTXM9s6OKR",
        "outputId": "20624155-e9ac-4d82-fef2-fc147e2156d5"
      },
      "execution_count": null,
      "outputs": [
        {
          "output_type": "execute_result",
          "data": {
            "text/plain": [
              "array([50, 50, 50])"
            ]
          },
          "metadata": {},
          "execution_count": 38
        }
      ]
    },
    {
      "cell_type": "code",
      "source": [
        "print(iris.target_names)"
      ],
      "metadata": {
        "colab": {
          "base_uri": "https://localhost:8080/"
        },
        "id": "A57wWIDk6mKj",
        "outputId": "3c494b03-7128-4acd-d788-683a442460ce"
      },
      "execution_count": null,
      "outputs": [
        {
          "output_type": "stream",
          "name": "stdout",
          "text": [
            "['setosa' 'versicolor' 'virginica']\n"
          ]
        }
      ]
    },
    {
      "cell_type": "code",
      "source": [
        "%matplotlib inline\n",
        "import matplotlib.pyplot as plt\n",
        "\n",
        "\n",
        "x_index = 3\n",
        "colors = ['blue', 'red', 'green']\n",
        "\n",
        "for label, color in zip(range(len(iris.target_names)), colors):\n",
        "    plt.hist(iris.data[iris.target==label, x_index],\n",
        "             label=iris.target_names[label],\n",
        "             color=color)\n",
        "\n",
        "plt.xlabel(iris.feature_names[x_index])\n",
        "plt.legend(loc='upper right')\n",
        "plt.show()\n"
      ],
      "metadata": {
        "colab": {
          "base_uri": "https://localhost:8080/",
          "height": 449
        },
        "id": "zZQmvl7j6s6i",
        "outputId": "5031010a-517f-4ce7-b694-97df1f2143c9"
      },
      "execution_count": null,
      "outputs": [
        {
          "output_type": "display_data",
          "data": {
            "text/plain": [
              "<Figure size 640x480 with 1 Axes>"
            ],
            "image/png": "[encoded data removed]"
          },
          "metadata": {}
        }
      ]
    },
    {
      "cell_type": "code",
      "source": [
        "x_index = 3\n",
        "y_index = 0\n",
        "\n",
        "colors = ['blue', 'red', 'green']\n",
        "\n",
        "for label, color in zip(range(len(iris.target_names)), colors):\n",
        "    plt.scatter(iris.data[iris.target==label, x_index],\n",
        "                iris.data[iris.target==label, y_index],\n",
        "                label=iris.target_names[label],\n",
        "                c=color)\n",
        "\n",
        "plt.xlabel(iris.feature_names[x_index])\n",
        "plt.ylabel(iris.feature_names[y_index])\n",
        "plt.legend(loc='upper left')\n",
        "plt.show()"
      ],
      "metadata": {
        "colab": {
          "base_uri": "https://localhost:8080/",
          "height": 449
        },
        "id": "86KmroXx7bHA",
        "outputId": "a2a6f1b5-e770-417c-a470-b83b2906eb4d"
      },
      "execution_count": null,
      "outputs": [
        {
          "output_type": "display_data",
          "data": {
            "text/plain": [
              "<Figure size 640x480 with 1 Axes>"
            ],
            "image/png": "[encoded data removed]"
          },
          "metadata": {}
        }
      ]
    },
    {
      "cell_type": "code",
      "source": [
        "import pandas as pd\n",
        "\n",
        "\n",
        "iris_df = pd.DataFrame(iris.data, columns=iris.feature_names)\n",
        "pd.plotting.scatter_matrix(iris_df, c=iris.target, figsize=(8, 8));\n"
      ],
      "metadata": {
        "colab": {
          "base_uri": "https://localhost:8080/",
          "height": 700
        },
        "id": "TfSsyAYy79On",
        "outputId": "338735cc-388f-4f54-bbb8-3a9035541632"
      },
      "execution_count": null,
      "outputs": [
        {
          "output_type": "display_data",
          "data": {
            "text/plain": [
              "<Figure size 800x800 with 16 Axes>"
            ],
            "image/png": "[encoded data removed]"
          },
          "metadata": {}
        }
      ]
    },
    {
      "cell_type": "code",
      "source": [
        "from sklearn.datasets import load_iris\n",
        "from sklearn.neighbors import KNeighborsClassifier\n",
        "\n",
        "iris = load_iris()\n",
        "X, y = iris.data, iris.target\n",
        "\n",
        "classifier = KNeighborsClassifier()"
      ],
      "metadata": {
        "id": "i8EJHrrb81pz"
      },
      "execution_count": null,
      "outputs": []
    },
    {
      "cell_type": "code",
      "source": [
        "y"
      ],
      "metadata": {
        "colab": {
          "base_uri": "https://localhost:8080/"
        },
        "id": "XlMXr0WW9WDy",
        "outputId": "5a78e520-3ef6-489b-c6cc-480e15c2b9e1"
      },
      "execution_count": null,
      "outputs": [
        {
          "output_type": "execute_result",
          "data": {
            "text/plain": [
              "array([0, 0, 0, 0, 0, 0, 0, 0, 0, 0, 0, 0, 0, 0, 0, 0, 0, 0, 0, 0, 0, 0,\n",
              "       0, 0, 0, 0, 0, 0, 0, 0, 0, 0, 0, 0, 0, 0, 0, 0, 0, 0, 0, 0, 0, 0,\n",
              "       0, 0, 0, 0, 0, 0, 1, 1, 1, 1, 1, 1, 1, 1, 1, 1, 1, 1, 1, 1, 1, 1,\n",
              "       1, 1, 1, 1, 1, 1, 1, 1, 1, 1, 1, 1, 1, 1, 1, 1, 1, 1, 1, 1, 1, 1,\n",
              "       1, 1, 1, 1, 1, 1, 1, 1, 1, 1, 1, 1, 2, 2, 2, 2, 2, 2, 2, 2, 2, 2,\n",
              "       2, 2, 2, 2, 2, 2, 2, 2, 2, 2, 2, 2, 2, 2, 2, 2, 2, 2, 2, 2, 2, 2,\n",
              "       2, 2, 2, 2, 2, 2, 2, 2, 2, 2, 2, 2, 2, 2, 2, 2, 2, 2])"
            ]
          },
          "metadata": {},
          "execution_count": 44
        }
      ]
    },
    {
      "cell_type": "code",
      "source": [
        "\n",
        "from sklearn.model_selection import train_test_split\n",
        "\n",
        "train_X, test_X, train_y, test_y = train_test_split(X, y,\n",
        "                                                    train_size=0.5,\n",
        "                                                    test_size=0.5,\n",
        "                                                    random_state=123)\n",
        "print(\"Etiquetas para los datos de entrenamiento y test\")\n",
        "print(train_y)\n",
        "print(test_y)\n"
      ],
      "metadata": {
        "colab": {
          "base_uri": "https://localhost:8080/"
        },
        "id": "HkBoGEqF9khn",
        "outputId": "9b5442ea-f531-4dba-e96b-e3f9c150f7dc"
      },
      "execution_count": null,
      "outputs": [
        {
          "output_type": "stream",
          "name": "stdout",
          "text": [
            "Etiquetas para los datos de entrenamiento y test\n",
            "[1 1 0 2 2 0 0 1 1 2 0 0 1 0 1 2 0 2 0 0 1 0 0 1 2 1 1 1 0 0 1 2 0 0 1 1 1\n",
            " 2 1 1 1 2 0 0 1 2 2 2 2 0 1 0 1 1 0 1 2 1 2 2 0 1 0 2 2 1 1 2 2 1 0 1 1 2\n",
            " 2]\n",
            "[1 2 2 1 0 2 1 0 0 1 2 0 1 2 2 2 0 0 1 0 0 2 0 2 0 0 0 2 2 0 2 2 0 0 1 1 2\n",
            " 0 0 1 1 0 2 2 2 2 2 1 0 0 2 0 0 1 1 1 1 2 1 2 0 2 1 0 0 2 1 2 2 0 1 1 2 0\n",
            " 2]\n"
          ]
        }
      ]
    },
    {
      "cell_type": "code",
      "source": [
        "print('Todos:', np.bincount(y) / float(len(y)) * 100.0)\n",
        "\n",
        "print('Entrenamiento:', np.bincount(train_y) / float(len(train_y)) * 100.0)\n",
        "print('Test:', np.bincount(test_y) / float(len(test_y)) * 100.0)\n"
      ],
      "metadata": {
        "colab": {
          "base_uri": "https://localhost:8080/"
        },
        "id": "bJc7fZrz9_97",
        "outputId": "e25c56ef-32e4-44d6-ad41-6743e2e8277d"
      },
      "execution_count": null,
      "outputs": [
        {
          "output_type": "stream",
          "name": "stdout",
          "text": [
            "Todos: [33.33333333 33.33333333 33.33333333]\n",
            "Entrenamiento: [30.66666667 40.         29.33333333]\n",
            "Test: [36.         26.66666667 37.33333333]\n"
          ]
        }
      ]
    },
    {
      "cell_type": "code",
      "source": [
        "train_X, test_X, train_y, test_y = train_test_split(X, y,\n",
        "                                                    train_size=0.5,\n",
        "                                                    test_size=0.5,\n",
        "                                                    random_state=123,\n",
        "                                                    stratify=y)\n",
        "\n",
        "print('Todos:', np.bincount(y) / float(len(y)) * 100.0)\n",
        "print('Entrenamiento:', np.bincount(train_y) / float(len(train_y)) * 100.0)\n",
        "print('Test:', np.bincount(test_y) / float(len(test_y)) * 100.0)"
      ],
      "metadata": {
        "colab": {
          "base_uri": "https://localhost:8080/"
        },
        "id": "BBGGLQk4-QHQ",
        "outputId": "922e06fd-1f04-466b-aa72-a008659136bc"
      },
      "execution_count": null,
      "outputs": [
        {
          "output_type": "stream",
          "name": "stdout",
          "text": [
            "Todos: [33.33333333 33.33333333 33.33333333]\n",
            "Entrenamiento: [33.33333333 33.33333333 33.33333333]\n",
            "Test: [33.33333333 33.33333333 33.33333333]\n"
          ]
        }
      ]
    },
    {
      "cell_type": "code",
      "source": [
        "classifier.fit(train_X, train_y)\n",
        "\n",
        "pred_y = classifier.predict(test_X)\n",
        "\n",
        "print(\"CCR [Accuracy]:\")\n",
        "print(np.mean(pred_y == test_y))\n"
      ],
      "metadata": {
        "colab": {
          "base_uri": "https://localhost:8080/"
        },
        "id": "d5BD6Tnj-oqi",
        "outputId": "48c76506-01b6-4f8d-d5f3-0d00997e32dd"
      },
      "execution_count": null,
      "outputs": [
        {
          "output_type": "stream",
          "name": "stdout",
          "text": [
            "CCR [Accuracy]:\n",
            "0.96\n"
          ]
        }
      ]
    },
    {
      "cell_type": "code",
      "source": [
        "print('Ejemplos correctamente clasificados:')\n",
        "\n",
        "correct_idx = np.where(pred_y == test_y)[0]\n",
        "print(correct_idx)\n",
        "\n",
        "print('\\nEjemplos incorrectamente clasificados:')\n",
        "incorrect_idx = np.where(pred_y != test_y)[0]\n",
        "print(incorrect_idx)\n"
      ],
      "metadata": {
        "colab": {
          "base_uri": "https://localhost:8080/"
        },
        "id": "m4Efc9zk-85P",
        "outputId": "a40d9ef1-0f53-444e-e99a-4400e7991d8b"
      },
      "execution_count": null,
      "outputs": [
        {
          "output_type": "stream",
          "name": "stdout",
          "text": [
            "Ejemplos correctamente clasificados:\n",
            "[ 0  1  2  3  4  5  6  7  8  9 10 11 12 13 14 15 16 17 18 19 20 21 22 23\n",
            " 24 25 26 27 28 29 30 31 32 33 34 35 36 37 38 39 40 41 42 43 45 46 47 48\n",
            " 50 51 52 53 54 55 56 57 58 59 61 62 63 64 65 66 67 68 69 70 71 72 73 74]\n",
            "\n",
            "Ejemplos incorrectamente clasificados:\n",
            "[44 49 60]\n"
          ]
        }
      ]
    },
    {
      "cell_type": "code",
      "source": [
        "\n",
        "# Representar en 2D\n",
        "\n",
        "colors = [\"darkblue\", \"darkgreen\", \"gray\"]\n",
        "\n",
        "for n, color in enumerate(colors):\n",
        "    idx = np.where(test_y == n)[0]\n",
        "    plt.scatter(test_X[idx, 1], test_X[idx, 2], color=color, label=\"Clase %s\" % str(n))\n",
        "\n",
        "plt.scatter(test_X[incorrect_idx, 1], test_X[incorrect_idx, 2], color=\"darkred\")\n",
        "\n",
        "plt.xlabel('sepal width [cm]')\n",
        "plt.ylabel('petal length [cm]')\n",
        "plt.legend(loc=3)\n",
        "plt.title(\"Resultados de clasificación en iris con KNN\")\n",
        "plt.show()\n"
      ],
      "metadata": {
        "colab": {
          "base_uri": "https://localhost:8080/",
          "height": 472
        },
        "id": "VUS4lCxf_HzN",
        "outputId": "69692c18-357d-4c76-b3f3-ce3880f9f9cd"
      },
      "execution_count": null,
      "outputs": [
        {
          "output_type": "display_data",
          "data": {
            "text/plain": [
              "<Figure size 640x480 with 1 Axes>"
            ],
            "image/png": "[encoded data removed]"
          },
          "metadata": {}
        }
      ]
    }
  ]
}